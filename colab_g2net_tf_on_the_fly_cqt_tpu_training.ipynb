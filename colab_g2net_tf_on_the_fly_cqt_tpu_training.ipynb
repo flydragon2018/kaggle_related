{
  "nbformat": 4,
  "nbformat_minor": 5,
  "metadata": {
    "kernelspec": {
      "display_name": "Python 3",
      "language": "python",
      "name": "python3"
    },
    "language_info": {
      "codemirror_mode": {
        "name": "ipython",
        "version": 3
      },
      "file_extension": ".py",
      "mimetype": "text/x-python",
      "name": "python",
      "nbconvert_exporter": "python",
      "pygments_lexer": "ipython3",
      "version": "3.7.10"
    },
    "papermill": {
      "default_parameters": {},
      "duration": 23536.999586,
      "end_time": "2021-08-14T09:53:28.218112",
      "environment_variables": {},
      "exception": null,
      "input_path": "__notebook__.ipynb",
      "output_path": "__notebook__.ipynb",
      "parameters": {},
      "start_time": "2021-08-14T03:21:11.218526",
      "version": "2.3.3"
    },
    "colab": {
      "name": "colab g2net-tf-on-the-fly-cqt-tpu-training.ipynb",
      "provenance": [],
      "collapsed_sections": [],
      "include_colab_link": true
    },
    "accelerator": "TPU"
  },
  "cells": [
    {
      "cell_type": "markdown",
      "metadata": {
        "id": "view-in-github",
        "colab_type": "text"
      },
      "source": [
        "<a href=\"https://colab.research.google.com/github/flydragon2018/kaggle_related/blob/main/colab_g2net_tf_on_the_fly_cqt_tpu_training.ipynb\" target=\"_parent\"><img src=\"https://colab.research.google.com/assets/colab-badge.svg\" alt=\"Open In Colab\"/></a>"
      ]
    },
    {
      "cell_type": "markdown",
      "metadata": {
        "papermill": {
          "duration": 0.025238,
          "end_time": "2021-08-14T03:21:20.226840",
          "exception": false,
          "start_time": "2021-08-14T03:21:20.201602",
          "status": "completed"
        },
        "tags": [],
        "id": "6ec1f6a2"
      },
      "source": [
        "## About this notebook\n",
        "\n",
        "This notebook is based on [CQT G2Net EfficientNetB1[TPU Training]](https://www.kaggle.com/miklgr500/cqt-g2net-efficientnetb7-tpu-training-w-b) by [Welf Crozzo](https://www.kaggle.com/miklgr500) and [nnAudio Constant Q-transform Demonstration](https://www.kaggle.com/atamazian/nnaudio-constant-q-transform-demonstration) by [Araik Tamazian](https://www.kaggle.com/atamazian).\n",
        "\n",
        "This notebook use Constant Q-Transform for feature extraction and EfficientNetB0 for classification. The whole pipeline is implemented with Tensorflow, and the training process runs on TPU.\n",
        "\n",
        "The main difference between this notebook and Welf's notebook is the use of on-the-fly CQT computation implemented with Tensorflow, which is similar to the idea of [nnAudio](https://github.com/KinWaiCheuk/nnAudio)'s [CQT1992v2](https://kinwaicheuk.github.io/nnAudio/_autosummary/nnAudio.Spectrogram.CQT1992v2.html?highlight=cqt1992v2#nnAudio.Spectrogram.CQT1992v2) layer.\n",
        "\n",
        "* [Inference Notebook](https://www.kaggle.com/hidehisaarai1213/g2net-tf-on-the-fly-cqt-tpu-inference)"
      ],
      "id": "6ec1f6a2"
    },
    {
      "cell_type": "markdown",
      "metadata": {
        "papermill": {
          "duration": 0.022529,
          "end_time": "2021-08-14T03:21:20.275331",
          "exception": false,
          "start_time": "2021-08-14T03:21:20.252802",
          "status": "completed"
        },
        "tags": [],
        "id": "fefab3ce"
      },
      "source": [
        "## Install Dependencies"
      ],
      "id": "fefab3ce"
    },
    {
      "cell_type": "code",
      "metadata": {
        "id": "aGyTubn71sp8"
      },
      "source": [
        ""
      ],
      "id": "aGyTubn71sp8",
      "execution_count": null,
      "outputs": []
    },
    {
      "cell_type": "code",
      "metadata": {
        "id": "DuQIbP2I1swa"
      },
      "source": [
        ""
      ],
      "id": "DuQIbP2I1swa",
      "execution_count": null,
      "outputs": []
    },
    {
      "cell_type": "code",
      "metadata": {
        "execution": {
          "iopub.execute_input": "2021-08-14T03:21:20.325866Z",
          "iopub.status.busy": "2021-08-14T03:21:20.324637Z",
          "iopub.status.idle": "2021-08-14T03:21:29.851118Z",
          "shell.execute_reply": "2021-08-14T03:21:29.850259Z",
          "shell.execute_reply.started": "2021-08-13T14:28:17.064087Z"
        },
        "papermill": {
          "duration": 9.553192,
          "end_time": "2021-08-14T03:21:29.851299",
          "exception": false,
          "start_time": "2021-08-14T03:21:20.298107",
          "status": "completed"
        },
        "tags": [],
        "id": "c97ac555"
      },
      "source": [
        "!pip install efficientnet tensorflow_addons > /dev/null"
      ],
      "id": "c97ac555",
      "execution_count": 1,
      "outputs": []
    },
    {
      "cell_type": "code",
      "metadata": {
        "execution": {
          "iopub.execute_input": "2021-08-14T03:21:29.908144Z",
          "iopub.status.busy": "2021-08-14T03:21:29.907429Z",
          "iopub.status.idle": "2021-08-14T03:21:37.811890Z",
          "shell.execute_reply": "2021-08-14T03:21:37.811286Z",
          "shell.execute_reply.started": "2021-08-13T14:28:43.372713Z"
        },
        "papermill": {
          "duration": 7.93501,
          "end_time": "2021-08-14T03:21:37.812078",
          "exception": false,
          "start_time": "2021-08-14T03:21:29.877068",
          "status": "completed"
        },
        "tags": [],
        "id": "571f9532"
      },
      "source": [
        "import os\n",
        "import math\n",
        "import random\n",
        "import re\n",
        "import warnings\n",
        "from pathlib import Path\n",
        "from typing import Optional, Tuple\n",
        "\n",
        "import efficientnet.tfkeras as efn\n",
        "import matplotlib.pyplot as plt\n",
        "import numpy as np\n",
        "import pandas as pd\n",
        "import seaborn as sns\n",
        "import tensorflow as tf\n",
        "import tensorflow_addons as tfa\n",
        "#from kaggle_datasets import KaggleDatasets\n",
        "from scipy.signal import get_window\n",
        "from sklearn.model_selection import KFold\n",
        "from sklearn.metrics import roc_auc_score"
      ],
      "id": "571f9532",
      "execution_count": 2,
      "outputs": []
    },
    {
      "cell_type": "code",
      "metadata": {
        "execution": {
          "iopub.execute_input": "2021-08-14T03:21:37.868139Z",
          "iopub.status.busy": "2021-08-14T03:21:37.867175Z",
          "iopub.status.idle": "2021-08-14T03:21:37.871224Z",
          "shell.execute_reply": "2021-08-14T03:21:37.871687Z",
          "shell.execute_reply.started": "2021-08-13T14:28:58.627868Z"
        },
        "papermill": {
          "duration": 0.036477,
          "end_time": "2021-08-14T03:21:37.871881",
          "exception": false,
          "start_time": "2021-08-14T03:21:37.835404",
          "status": "completed"
        },
        "tags": [],
        "colab": {
          "base_uri": "https://localhost:8080/",
          "height": 35
        },
        "id": "2451cd51",
        "outputId": "3c55618f-2521-4140-aaa2-abbe617575b0"
      },
      "source": [
        "tf.__version__"
      ],
      "id": "2451cd51",
      "execution_count": 3,
      "outputs": [
        {
          "output_type": "execute_result",
          "data": {
            "application/vnd.google.colaboratory.intrinsic+json": {
              "type": "string"
            },
            "text/plain": [
              "'2.5.0'"
            ]
          },
          "metadata": {
            "tags": []
          },
          "execution_count": 3
        }
      ]
    },
    {
      "cell_type": "markdown",
      "metadata": {
        "papermill": {
          "duration": 0.023091,
          "end_time": "2021-08-14T03:21:37.919230",
          "exception": false,
          "start_time": "2021-08-14T03:21:37.896139",
          "status": "completed"
        },
        "tags": [],
        "id": "d3abd755"
      },
      "source": [
        "## Config"
      ],
      "id": "d3abd755"
    },
    {
      "cell_type": "code",
      "metadata": {
        "execution": {
          "iopub.execute_input": "2021-08-14T03:21:37.974880Z",
          "iopub.status.busy": "2021-08-14T03:21:37.973783Z",
          "iopub.status.idle": "2021-08-14T03:21:37.977265Z",
          "shell.execute_reply": "2021-08-14T03:21:37.976658Z",
          "shell.execute_reply.started": "2021-08-13T14:29:39.494237Z"
        },
        "papermill": {
          "duration": 0.033533,
          "end_time": "2021-08-14T03:21:37.977414",
          "exception": false,
          "start_time": "2021-08-14T03:21:37.943881",
          "status": "completed"
        },
        "tags": [],
        "id": "32285210"
      },
      "source": [
        "NUM_FOLDS = 4\n",
        "IMAGE_SIZE = 256\n",
        "BATCH_SIZE = 32\n",
        "EFFICIENTNET_SIZE = 7\n",
        "WEIGHTS = \"imagenet\"\n",
        "\n",
        "MIXUP_PROB = 0.0\n",
        "EPOCHS = 20\n",
        "R_ANGLE = 0 / 180 * np.pi\n",
        "S_SHIFT = 0.0\n",
        "T_SHIFT = 0.0\n",
        "LABEL_POSITIVE_SHIFT = 0.99"
      ],
      "id": "32285210",
      "execution_count": 4,
      "outputs": []
    },
    {
      "cell_type": "code",
      "metadata": {
        "execution": {
          "iopub.execute_input": "2021-08-14T03:21:38.031020Z",
          "iopub.status.busy": "2021-08-14T03:21:38.030209Z",
          "iopub.status.idle": "2021-08-14T03:21:38.034465Z",
          "shell.execute_reply": "2021-08-14T03:21:38.033730Z",
          "shell.execute_reply.started": "2021-08-13T14:30:35.748754Z"
        },
        "papermill": {
          "duration": 0.032866,
          "end_time": "2021-08-14T03:21:38.034616",
          "exception": false,
          "start_time": "2021-08-14T03:21:38.001750",
          "status": "completed"
        },
        "tags": [],
        "id": "2002b56f"
      },
      "source": [
        "SAVEDIR = Path(\"models\")\n",
        "SAVEDIR.mkdir(exist_ok=True)\n",
        "\n",
        "OOFDIR = Path(\"oof\")\n",
        "OOFDIR.mkdir(exist_ok=True)"
      ],
      "id": "2002b56f",
      "execution_count": 5,
      "outputs": []
    },
    {
      "cell_type": "markdown",
      "metadata": {
        "papermill": {
          "duration": 0.023253,
          "end_time": "2021-08-14T03:21:38.082901",
          "exception": false,
          "start_time": "2021-08-14T03:21:38.059648",
          "status": "completed"
        },
        "tags": [],
        "id": "76d2007f"
      },
      "source": [
        "## Utilities"
      ],
      "id": "76d2007f"
    },
    {
      "cell_type": "code",
      "metadata": {
        "execution": {
          "iopub.execute_input": "2021-08-14T03:21:38.136477Z",
          "iopub.status.busy": "2021-08-14T03:21:38.135478Z",
          "iopub.status.idle": "2021-08-14T03:21:38.138777Z",
          "shell.execute_reply": "2021-08-14T03:21:38.138276Z",
          "shell.execute_reply.started": "2021-08-13T14:30:57.215523Z"
        },
        "papermill": {
          "duration": 0.032459,
          "end_time": "2021-08-14T03:21:38.138970",
          "exception": false,
          "start_time": "2021-08-14T03:21:38.106511",
          "status": "completed"
        },
        "tags": [],
        "id": "3ad1bca8"
      },
      "source": [
        "def set_seed(seed=42):\n",
        "    random.seed(seed)\n",
        "    os.environ[\"PYTHONHASHSEED\"] = str(seed)\n",
        "    np.random.seed(seed)\n",
        "    tf.random.set_seed(seed)\n",
        "\n",
        "\n",
        "set_seed(1213)"
      ],
      "id": "3ad1bca8",
      "execution_count": 6,
      "outputs": []
    },
    {
      "cell_type": "code",
      "metadata": {
        "execution": {
          "iopub.execute_input": "2021-08-14T03:21:38.195361Z",
          "iopub.status.busy": "2021-08-14T03:21:38.194322Z",
          "iopub.status.idle": "2021-08-14T03:21:38.197329Z",
          "shell.execute_reply": "2021-08-14T03:21:38.196784Z",
          "shell.execute_reply.started": "2021-08-13T14:31:06.127317Z"
        },
        "papermill": {
          "duration": 0.034099,
          "end_time": "2021-08-14T03:21:38.197482",
          "exception": false,
          "start_time": "2021-08-14T03:21:38.163383",
          "status": "completed"
        },
        "tags": [],
        "id": "5e9617a0"
      },
      "source": [
        "def auto_select_accelerator():\n",
        "    TPU_DETECTED = False\n",
        "    try:\n",
        "        tpu = tf.distribute.cluster_resolver.TPUClusterResolver()\n",
        "        tf.config.experimental_connect_to_cluster(tpu)\n",
        "        tf.tpu.experimental.initialize_tpu_system(tpu)\n",
        "        strategy = tf.distribute.experimental.TPUStrategy(tpu)\n",
        "        print(\"Running on TPU:\", tpu.master())\n",
        "        TPU_DETECTED = True\n",
        "    except ValueError:\n",
        "        strategy = tf.distribute.get_strategy()\n",
        "    print(f\"Running on {strategy.num_replicas_in_sync} replicas\")\n",
        "\n",
        "    return strategy, TPU_DETECTED"
      ],
      "id": "5e9617a0",
      "execution_count": 7,
      "outputs": []
    },
    {
      "cell_type": "code",
      "metadata": {
        "execution": {
          "iopub.execute_input": "2021-08-14T03:21:38.328341Z",
          "iopub.status.busy": "2021-08-14T03:21:38.269544Z",
          "iopub.status.idle": "2021-08-14T03:21:44.552281Z",
          "shell.execute_reply": "2021-08-14T03:21:44.552804Z",
          "shell.execute_reply.started": "2021-08-13T14:31:22.521209Z"
        },
        "papermill": {
          "duration": 6.331911,
          "end_time": "2021-08-14T03:21:44.553018",
          "exception": false,
          "start_time": "2021-08-14T03:21:38.221107",
          "status": "completed"
        },
        "tags": [],
        "colab": {
          "base_uri": "https://localhost:8080/"
        },
        "id": "af79926c",
        "outputId": "9b9993ae-269c-4199-8d60-2e1521f8dcb9"
      },
      "source": [
        "strategy, tpu_detected = auto_select_accelerator()\n",
        "AUTO = tf.data.experimental.AUTOTUNE\n",
        "REPLICAS = strategy.num_replicas_in_sync"
      ],
      "id": "af79926c",
      "execution_count": 8,
      "outputs": [
        {
          "output_type": "stream",
          "text": [
            "INFO:tensorflow:Initializing the TPU system: grpc://10.95.184.250:8470\n"
          ],
          "name": "stdout"
        },
        {
          "output_type": "stream",
          "text": [
            "INFO:tensorflow:Initializing the TPU system: grpc://10.95.184.250:8470\n"
          ],
          "name": "stderr"
        },
        {
          "output_type": "stream",
          "text": [
            "INFO:tensorflow:Clearing out eager caches\n"
          ],
          "name": "stdout"
        },
        {
          "output_type": "stream",
          "text": [
            "INFO:tensorflow:Clearing out eager caches\n"
          ],
          "name": "stderr"
        },
        {
          "output_type": "stream",
          "text": [
            "INFO:tensorflow:Finished initializing TPU system.\n"
          ],
          "name": "stdout"
        },
        {
          "output_type": "stream",
          "text": [
            "INFO:tensorflow:Finished initializing TPU system.\n",
            "WARNING:absl:`tf.distribute.experimental.TPUStrategy` is deprecated, please use  the non experimental symbol `tf.distribute.TPUStrategy` instead.\n"
          ],
          "name": "stderr"
        },
        {
          "output_type": "stream",
          "text": [
            "INFO:tensorflow:Found TPU system:\n"
          ],
          "name": "stdout"
        },
        {
          "output_type": "stream",
          "text": [
            "INFO:tensorflow:Found TPU system:\n"
          ],
          "name": "stderr"
        },
        {
          "output_type": "stream",
          "text": [
            "INFO:tensorflow:*** Num TPU Cores: 8\n"
          ],
          "name": "stdout"
        },
        {
          "output_type": "stream",
          "text": [
            "INFO:tensorflow:*** Num TPU Cores: 8\n"
          ],
          "name": "stderr"
        },
        {
          "output_type": "stream",
          "text": [
            "INFO:tensorflow:*** Num TPU Workers: 1\n"
          ],
          "name": "stdout"
        },
        {
          "output_type": "stream",
          "text": [
            "INFO:tensorflow:*** Num TPU Workers: 1\n"
          ],
          "name": "stderr"
        },
        {
          "output_type": "stream",
          "text": [
            "INFO:tensorflow:*** Num TPU Cores Per Worker: 8\n"
          ],
          "name": "stdout"
        },
        {
          "output_type": "stream",
          "text": [
            "INFO:tensorflow:*** Num TPU Cores Per Worker: 8\n"
          ],
          "name": "stderr"
        },
        {
          "output_type": "stream",
          "text": [
            "INFO:tensorflow:*** Available Device: _DeviceAttributes(/job:localhost/replica:0/task:0/device:CPU:0, CPU, 0, 0)\n"
          ],
          "name": "stdout"
        },
        {
          "output_type": "stream",
          "text": [
            "INFO:tensorflow:*** Available Device: _DeviceAttributes(/job:localhost/replica:0/task:0/device:CPU:0, CPU, 0, 0)\n"
          ],
          "name": "stderr"
        },
        {
          "output_type": "stream",
          "text": [
            "INFO:tensorflow:*** Available Device: _DeviceAttributes(/job:worker/replica:0/task:0/device:CPU:0, CPU, 0, 0)\n"
          ],
          "name": "stdout"
        },
        {
          "output_type": "stream",
          "text": [
            "INFO:tensorflow:*** Available Device: _DeviceAttributes(/job:worker/replica:0/task:0/device:CPU:0, CPU, 0, 0)\n"
          ],
          "name": "stderr"
        },
        {
          "output_type": "stream",
          "text": [
            "INFO:tensorflow:*** Available Device: _DeviceAttributes(/job:worker/replica:0/task:0/device:TPU:0, TPU, 0, 0)\n"
          ],
          "name": "stdout"
        },
        {
          "output_type": "stream",
          "text": [
            "INFO:tensorflow:*** Available Device: _DeviceAttributes(/job:worker/replica:0/task:0/device:TPU:0, TPU, 0, 0)\n"
          ],
          "name": "stderr"
        },
        {
          "output_type": "stream",
          "text": [
            "INFO:tensorflow:*** Available Device: _DeviceAttributes(/job:worker/replica:0/task:0/device:TPU:1, TPU, 0, 0)\n"
          ],
          "name": "stdout"
        },
        {
          "output_type": "stream",
          "text": [
            "INFO:tensorflow:*** Available Device: _DeviceAttributes(/job:worker/replica:0/task:0/device:TPU:1, TPU, 0, 0)\n"
          ],
          "name": "stderr"
        },
        {
          "output_type": "stream",
          "text": [
            "INFO:tensorflow:*** Available Device: _DeviceAttributes(/job:worker/replica:0/task:0/device:TPU:2, TPU, 0, 0)\n"
          ],
          "name": "stdout"
        },
        {
          "output_type": "stream",
          "text": [
            "INFO:tensorflow:*** Available Device: _DeviceAttributes(/job:worker/replica:0/task:0/device:TPU:2, TPU, 0, 0)\n"
          ],
          "name": "stderr"
        },
        {
          "output_type": "stream",
          "text": [
            "INFO:tensorflow:*** Available Device: _DeviceAttributes(/job:worker/replica:0/task:0/device:TPU:3, TPU, 0, 0)\n"
          ],
          "name": "stdout"
        },
        {
          "output_type": "stream",
          "text": [
            "INFO:tensorflow:*** Available Device: _DeviceAttributes(/job:worker/replica:0/task:0/device:TPU:3, TPU, 0, 0)\n"
          ],
          "name": "stderr"
        },
        {
          "output_type": "stream",
          "text": [
            "INFO:tensorflow:*** Available Device: _DeviceAttributes(/job:worker/replica:0/task:0/device:TPU:4, TPU, 0, 0)\n"
          ],
          "name": "stdout"
        },
        {
          "output_type": "stream",
          "text": [
            "INFO:tensorflow:*** Available Device: _DeviceAttributes(/job:worker/replica:0/task:0/device:TPU:4, TPU, 0, 0)\n"
          ],
          "name": "stderr"
        },
        {
          "output_type": "stream",
          "text": [
            "INFO:tensorflow:*** Available Device: _DeviceAttributes(/job:worker/replica:0/task:0/device:TPU:5, TPU, 0, 0)\n"
          ],
          "name": "stdout"
        },
        {
          "output_type": "stream",
          "text": [
            "INFO:tensorflow:*** Available Device: _DeviceAttributes(/job:worker/replica:0/task:0/device:TPU:5, TPU, 0, 0)\n"
          ],
          "name": "stderr"
        },
        {
          "output_type": "stream",
          "text": [
            "INFO:tensorflow:*** Available Device: _DeviceAttributes(/job:worker/replica:0/task:0/device:TPU:6, TPU, 0, 0)\n"
          ],
          "name": "stdout"
        },
        {
          "output_type": "stream",
          "text": [
            "INFO:tensorflow:*** Available Device: _DeviceAttributes(/job:worker/replica:0/task:0/device:TPU:6, TPU, 0, 0)\n"
          ],
          "name": "stderr"
        },
        {
          "output_type": "stream",
          "text": [
            "INFO:tensorflow:*** Available Device: _DeviceAttributes(/job:worker/replica:0/task:0/device:TPU:7, TPU, 0, 0)\n"
          ],
          "name": "stdout"
        },
        {
          "output_type": "stream",
          "text": [
            "INFO:tensorflow:*** Available Device: _DeviceAttributes(/job:worker/replica:0/task:0/device:TPU:7, TPU, 0, 0)\n"
          ],
          "name": "stderr"
        },
        {
          "output_type": "stream",
          "text": [
            "INFO:tensorflow:*** Available Device: _DeviceAttributes(/job:worker/replica:0/task:0/device:TPU_SYSTEM:0, TPU_SYSTEM, 0, 0)\n"
          ],
          "name": "stdout"
        },
        {
          "output_type": "stream",
          "text": [
            "INFO:tensorflow:*** Available Device: _DeviceAttributes(/job:worker/replica:0/task:0/device:TPU_SYSTEM:0, TPU_SYSTEM, 0, 0)\n"
          ],
          "name": "stderr"
        },
        {
          "output_type": "stream",
          "text": [
            "INFO:tensorflow:*** Available Device: _DeviceAttributes(/job:worker/replica:0/task:0/device:XLA_CPU:0, XLA_CPU, 0, 0)\n"
          ],
          "name": "stdout"
        },
        {
          "output_type": "stream",
          "text": [
            "INFO:tensorflow:*** Available Device: _DeviceAttributes(/job:worker/replica:0/task:0/device:XLA_CPU:0, XLA_CPU, 0, 0)\n"
          ],
          "name": "stderr"
        },
        {
          "output_type": "stream",
          "text": [
            "Running on TPU: grpc://10.95.184.250:8470\n",
            "Running on 8 replicas\n"
          ],
          "name": "stdout"
        }
      ]
    },
    {
      "cell_type": "markdown",
      "metadata": {
        "papermill": {
          "duration": 0.024364,
          "end_time": "2021-08-14T03:21:44.601420",
          "exception": false,
          "start_time": "2021-08-14T03:21:44.577056",
          "status": "completed"
        },
        "tags": [],
        "id": "89bd7d53"
      },
      "source": [
        "## Data Loading"
      ],
      "id": "89bd7d53"
    },
    {
      "cell_type": "code",
      "metadata": {
        "execution": {
          "iopub.execute_input": "2021-08-14T03:21:44.653557Z",
          "iopub.status.busy": "2021-08-14T03:21:44.652844Z",
          "iopub.status.idle": "2021-08-14T03:21:46.397374Z",
          "shell.execute_reply": "2021-08-14T03:21:46.397856Z",
          "shell.execute_reply.started": "2021-08-13T14:33:26.735358Z"
        },
        "papermill": {
          "duration": 1.771755,
          "end_time": "2021-08-14T03:21:46.398061",
          "exception": false,
          "start_time": "2021-08-14T03:21:44.626306",
          "status": "completed"
        },
        "tags": [],
        "colab": {
          "base_uri": "https://localhost:8080/",
          "height": 54
        },
        "id": "23d7d8d6",
        "outputId": "f08b146c-d214-4d69-dd2e-8d7b1b3f7420"
      },
      "source": [
        "'''\n",
        "gcs_paths = []\n",
        "for i, j in [(0, 4), (5, 9), (10, 14), (15, 19)]:\n",
        "    GCS_path = KaggleDatasets().get_gcs_path(f\"g2net-waveform-tfrecords-train-{i}-{j}\")\n",
        "    gcs_paths.append(GCS_path)\n",
        "    print(GCS_path)\n",
        "\n",
        "'''"
      ],
      "id": "23d7d8d6",
      "execution_count": 9,
      "outputs": [
        {
          "output_type": "execute_result",
          "data": {
            "application/vnd.google.colaboratory.intrinsic+json": {
              "type": "string"
            },
            "text/plain": [
              "'\\ngcs_paths = []\\nfor i, j in [(0, 4), (5, 9), (10, 14), (15, 19)]:\\n    GCS_path = KaggleDatasets().get_gcs_path(f\"g2net-waveform-tfrecords-train-{i}-{j}\")\\n    gcs_paths.append(GCS_path)\\n    print(GCS_path)\\n\\n'"
            ]
          },
          "metadata": {
            "tags": []
          },
          "execution_count": 9
        }
      ]
    },
    {
      "cell_type": "code",
      "metadata": {
        "id": "xIwRf6o82U-y"
      },
      "source": [
        "gcs_paths=['gs://kds-43fefac8f343d9f8da0a5410d05d767d573979ec1ae47ce48623c21a',\n",
        "'gs://kds-bc9220faa6dec75bcf9f132b59a00137a7b8bf521231a78f9b2deb80',\n",
        "'gs://kds-20655d78c4f3ab25a78f671065d9f1d60a6219f31deab9367a1f19e7',\n",
        "'gs://kds-ecd5226e83bfa009993743d8203c1c1ed34bdcb09f1bc863c1998059']"
      ],
      "id": "xIwRf6o82U-y",
      "execution_count": 10,
      "outputs": []
    },
    {
      "cell_type": "code",
      "metadata": {
        "execution": {
          "iopub.execute_input": "2021-08-14T03:21:46.454971Z",
          "iopub.status.busy": "2021-08-14T03:21:46.454247Z",
          "iopub.status.idle": "2021-08-14T03:21:46.757209Z",
          "shell.execute_reply": "2021-08-14T03:21:46.757997Z",
          "shell.execute_reply.started": "2021-08-13T14:33:39.324965Z"
        },
        "papermill": {
          "duration": 0.334482,
          "end_time": "2021-08-14T03:21:46.758243",
          "exception": false,
          "start_time": "2021-08-14T03:21:46.423761",
          "status": "completed"
        },
        "tags": [],
        "colab": {
          "base_uri": "https://localhost:8080/"
        },
        "id": "e64abc6f",
        "outputId": "ccfed50d-c7f5-4638-fcf6-b591ed96efb5"
      },
      "source": [
        "all_files = []\n",
        "for path in gcs_paths:\n",
        "    all_files.extend(np.sort(np.array(tf.io.gfile.glob(path + \"/train*.tfrecords\"))))\n",
        "\n",
        "print(\"train_files: \", len(all_files))"
      ],
      "id": "e64abc6f",
      "execution_count": 11,
      "outputs": [
        {
          "output_type": "stream",
          "text": [
            "train_files:  20\n"
          ],
          "name": "stdout"
        }
      ]
    },
    {
      "cell_type": "markdown",
      "metadata": {
        "papermill": {
          "duration": 0.025659,
          "end_time": "2021-08-14T03:21:46.809989",
          "exception": false,
          "start_time": "2021-08-14T03:21:46.784330",
          "status": "completed"
        },
        "tags": [],
        "id": "435ab0d8"
      },
      "source": [
        "## Dataset Preparation\n",
        "\n",
        "Here's the main contribution of this notebook - Tensorflow version of on-the-fly CQT computation. Note that some of the operations used in CQT computation are not supported by TPU, therefore the implementation is not a TF layer but a function that runs on CPU."
      ],
      "id": "435ab0d8"
    },
    {
      "cell_type": "code",
      "metadata": {
        "execution": {
          "iopub.execute_input": "2021-08-14T03:21:46.870128Z",
          "iopub.status.busy": "2021-08-14T03:21:46.869184Z",
          "iopub.status.idle": "2021-08-14T03:21:46.883461Z",
          "shell.execute_reply": "2021-08-14T03:21:46.882822Z",
          "shell.execute_reply.started": "2021-08-13T14:35:52.659171Z"
        },
        "papermill": {
          "duration": 0.048332,
          "end_time": "2021-08-14T03:21:46.883605",
          "exception": false,
          "start_time": "2021-08-14T03:21:46.835273",
          "status": "completed"
        },
        "tags": [],
        "id": "abd546b7"
      },
      "source": [
        "def create_cqt_kernels(\n",
        "    q: float,\n",
        "    fs: float,\n",
        "    fmin: float,\n",
        "    n_bins: int = 84,\n",
        "    bins_per_octave: int = 12,\n",
        "    norm: float = 1,\n",
        "    window: str = \"hann\",\n",
        "    fmax: Optional[float] = None,\n",
        "    topbin_check: bool = True\n",
        ") -> Tuple[np.ndarray, int, np.ndarray, float]:\n",
        "    fft_len = 2 ** _nextpow2(np.ceil(q * fs / fmin))\n",
        "    \n",
        "    if (fmax is not None) and (n_bins is None):\n",
        "        n_bins = np.ceil(bins_per_octave * np.log2(fmax / fmin))\n",
        "        freqs = fmin * 2.0 ** (np.r_[0:n_bins] / np.float(bins_per_octave))\n",
        "    elif (fmax is None) and (n_bins is not None):\n",
        "        freqs = fmin * 2.0 ** (np.r_[0:n_bins] / np.float(bins_per_octave))\n",
        "    else:\n",
        "        warnings.warn(\"If nmax is given, n_bins will be ignored\", SyntaxWarning)\n",
        "        n_bins = np.ceil(bins_per_octave * np.log2(fmax / fmin))\n",
        "        freqs = fmin * 2.0 ** (np.r_[0:n_bins] / np.float(bins_per_octave))\n",
        "        \n",
        "    if np.max(freqs) > fs / 2 and topbin_check:\n",
        "        raise ValueError(f\"The top bin {np.max(freqs)} Hz has exceeded the Nyquist frequency, \\\n",
        "                           please reduce the `n_bins`\")\n",
        "    \n",
        "    kernel = np.zeros((int(n_bins), int(fft_len)), dtype=np.complex64)\n",
        "    \n",
        "    length = np.ceil(q * fs / freqs)\n",
        "    for k in range(0, int(n_bins)):\n",
        "        freq = freqs[k]\n",
        "        l = np.ceil(q * fs / freq)\n",
        "        \n",
        "        if l % 2 == 1:\n",
        "            start = int(np.ceil(fft_len / 2.0 - l / 2.0)) - 1\n",
        "        else:\n",
        "            start = int(np.ceil(fft_len / 2.0 - l / 2.0))\n",
        "\n",
        "        sig = get_window(window, int(l), fftbins=True) * np.exp(\n",
        "            np.r_[-l // 2:l // 2] * 1j * 2 * np.pi * freq / fs) / l\n",
        "        \n",
        "        if norm:\n",
        "            kernel[k, start:start + int(l)] = sig / np.linalg.norm(sig, norm)\n",
        "        else:\n",
        "            kernel[k, start:start + int(l)] = sig\n",
        "    return kernel, fft_len, length, freqs\n",
        "\n",
        "\n",
        "def _nextpow2(a: float) -> int:\n",
        "    return int(np.ceil(np.log2(a)))\n",
        "\n",
        "\n",
        "def prepare_cqt_kernel(\n",
        "    sr=22050,\n",
        "    hop_length=512,\n",
        "    fmin=32.70,\n",
        "    fmax=None,\n",
        "    n_bins=84,\n",
        "    bins_per_octave=12,\n",
        "    norm=1,\n",
        "    filter_scale=1,\n",
        "    window=\"hann\"\n",
        "):\n",
        "    q = float(filter_scale) / (2 ** (1 / bins_per_octave) - 1)\n",
        "    print(q)\n",
        "    return create_cqt_kernels(q, sr, fmin, n_bins, bins_per_octave, norm, window, fmax)"
      ],
      "id": "abd546b7",
      "execution_count": 12,
      "outputs": []
    },
    {
      "cell_type": "code",
      "metadata": {
        "execution": {
          "iopub.execute_input": "2021-08-14T03:21:46.945256Z",
          "iopub.status.busy": "2021-08-14T03:21:46.944423Z",
          "iopub.status.idle": "2021-08-14T03:21:47.012211Z",
          "shell.execute_reply": "2021-08-14T03:21:47.010651Z",
          "shell.execute_reply.started": "2021-08-13T14:36:08.796878Z"
        },
        "papermill": {
          "duration": 0.102682,
          "end_time": "2021-08-14T03:21:47.012427",
          "exception": false,
          "start_time": "2021-08-14T03:21:46.909745",
          "status": "completed"
        },
        "tags": [],
        "colab": {
          "base_uri": "https://localhost:8080/"
        },
        "id": "b23131f1",
        "outputId": "3a3ed565-cd2a-492e-c5db-a8c46dc24660"
      },
      "source": [
        "HOP_LENGTH = 16\n",
        "cqt_kernels, KERNEL_WIDTH, lengths, _ = prepare_cqt_kernel(\n",
        "    sr=2048,\n",
        "    hop_length=HOP_LENGTH,\n",
        "    fmin=20,\n",
        "    fmax=1024,\n",
        "    bins_per_octave=24)\n",
        "LENGTHS = tf.constant(lengths, dtype=tf.float32)\n",
        "CQT_KERNELS_REAL = tf.constant(np.swapaxes(cqt_kernels.real[:, np.newaxis, :], 0, 2))\n",
        "CQT_KERNELS_IMAG = tf.constant(np.swapaxes(cqt_kernels.imag[:, np.newaxis, :], 0, 2))\n",
        "PADDING = tf.constant([[0, 0],\n",
        "                        [KERNEL_WIDTH // 2, KERNEL_WIDTH // 2],\n",
        "                        [0, 0]])"
      ],
      "id": "b23131f1",
      "execution_count": 13,
      "outputs": [
        {
          "output_type": "stream",
          "text": [
            "34.12708770892056\n"
          ],
          "name": "stdout"
        },
        {
          "output_type": "stream",
          "text": [
            "/usr/local/lib/python3.7/dist-packages/ipykernel_launcher.py:20: SyntaxWarning: If nmax is given, n_bins will be ignored\n"
          ],
          "name": "stderr"
        }
      ]
    },
    {
      "cell_type": "code",
      "metadata": {
        "execution": {
          "iopub.execute_input": "2021-08-14T03:21:47.083530Z",
          "iopub.status.busy": "2021-08-14T03:21:47.082779Z",
          "iopub.status.idle": "2021-08-14T03:21:47.085847Z",
          "shell.execute_reply": "2021-08-14T03:21:47.085345Z",
          "shell.execute_reply.started": "2021-08-13T14:36:23.457264Z"
        },
        "papermill": {
          "duration": 0.037214,
          "end_time": "2021-08-14T03:21:47.086012",
          "exception": false,
          "start_time": "2021-08-14T03:21:47.048798",
          "status": "completed"
        },
        "tags": [],
        "id": "44c073b3"
      },
      "source": [
        "def create_cqt_image(wave, hop_length=16):\n",
        "    CQTs = []\n",
        "    for i in range(3):\n",
        "        x = wave[i]\n",
        "        x = tf.expand_dims(tf.expand_dims(x, 0), 2)\n",
        "        x = tf.pad(x, PADDING, \"REFLECT\")\n",
        "\n",
        "        CQT_real = tf.nn.conv1d(x, CQT_KERNELS_REAL, stride=hop_length, padding=\"VALID\")\n",
        "        CQT_imag = -tf.nn.conv1d(x, CQT_KERNELS_IMAG, stride=hop_length, padding=\"VALID\")\n",
        "        CQT_real *= tf.math.sqrt(LENGTHS)\n",
        "        CQT_imag *= tf.math.sqrt(LENGTHS)\n",
        "\n",
        "        CQT = tf.math.sqrt(tf.pow(CQT_real, 2) + tf.pow(CQT_imag, 2))\n",
        "        CQTs.append(CQT[0])\n",
        "    return tf.stack(CQTs, axis=2)"
      ],
      "id": "44c073b3",
      "execution_count": 14,
      "outputs": []
    },
    {
      "cell_type": "code",
      "metadata": {
        "execution": {
          "iopub.execute_input": "2021-08-14T03:21:47.172362Z",
          "iopub.status.busy": "2021-08-14T03:21:47.142943Z",
          "iopub.status.idle": "2021-08-14T03:21:47.174936Z",
          "shell.execute_reply": "2021-08-14T03:21:47.175446Z",
          "shell.execute_reply.started": "2021-08-13T14:36:40.632207Z"
        },
        "papermill": {
          "duration": 0.063115,
          "end_time": "2021-08-14T03:21:47.175636",
          "exception": false,
          "start_time": "2021-08-14T03:21:47.112521",
          "status": "completed"
        },
        "tags": [],
        "id": "5427d834"
      },
      "source": [
        "def read_labeled_tfrecord(example):\n",
        "    tfrec_format = {\n",
        "        \"wave\": tf.io.FixedLenFeature([], tf.string),\n",
        "        \"wave_id\": tf.io.FixedLenFeature([], tf.string),\n",
        "        \"target\": tf.io.FixedLenFeature([], tf.int64)\n",
        "    }\n",
        "    example = tf.io.parse_single_example(example, tfrec_format)\n",
        "    return prepare_image(example[\"wave\"], IMAGE_SIZE), tf.reshape(tf.cast(example[\"target\"], tf.float32), [1])\n",
        "\n",
        "\n",
        "def read_unlabeled_tfrecord(example, return_image_id):\n",
        "    tfrec_format = {\n",
        "        \"wave\": tf.io.FixedLenFeature([], tf.string),\n",
        "        \"wave_id\": tf.io.FixedLenFeature([], tf.string)\n",
        "    }\n",
        "    example = tf.io.parse_single_example(example, tfrec_format)\n",
        "    return prepare_image(example[\"wave\"], IMAGE_SIZE), example[\"wave_id\"] if return_image_id else 0\n",
        "\n",
        "\n",
        "def count_data_items(fileids):\n",
        "    return len(fileids) * 28000\n",
        "\n",
        "\n",
        "def count_data_items_test(fileids):\n",
        "    return len(fileids) * 22600\n",
        "\n",
        "\n",
        "def mixup(image, label, probability=0.5, aug_batch=64 * 8):\n",
        "    imgs = []\n",
        "    labs = []\n",
        "    for j in range(aug_batch):\n",
        "        p = tf.cast(tf.random.uniform([], 0, 1) <= probability, tf.float32)\n",
        "        k = tf.cast(tf.random.uniform([], 0, aug_batch), tf.int32)\n",
        "        a = tf.random.uniform([], 0, 1) * p\n",
        "\n",
        "        img1 = image[j]\n",
        "        img2 = image[k]\n",
        "        imgs.append((1 - a) * img1 + a * img2)\n",
        "        lab1 = label[j]\n",
        "        lab2 = label[k]\n",
        "        labs.append((1 - a) * lab1 + a * lab2)\n",
        "    image2 = tf.reshape(tf.stack(imgs), (aug_batch, IMAGE_SIZE, IMAGE_SIZE, 3))\n",
        "    label2 = tf.reshape(tf.stack(labs), (aug_batch,))\n",
        "    return image2, label2\n",
        "\n",
        "\n",
        "def time_shift(img, shift=T_SHIFT):\n",
        "    if shift > 0:\n",
        "        T = IMAGE_SIZE\n",
        "        P = tf.random.uniform([],0,1)\n",
        "        SHIFT = tf.cast(T * P, tf.int32)\n",
        "        return tf.concat([img[-SHIFT:], img[:-SHIFT]], axis=0)\n",
        "    return img\n",
        "\n",
        "\n",
        "def rotate(img, angle=R_ANGLE):\n",
        "    if angle > 0:\n",
        "        P = tf.random.uniform([],0,1)\n",
        "        A = tf.cast(angle * P, tf.float32)\n",
        "        return tfa.image.rotate(img, A)\n",
        "    return img\n",
        "\n",
        "\n",
        "def spector_shift(img, shift=S_SHIFT):\n",
        "    if shift > 0:\n",
        "        T = IMAGE_SIZE\n",
        "        P = tf.random.uniform([],0,1)\n",
        "        SHIFT = tf.cast(T * P, tf.int32)\n",
        "        return tf.concat([img[:, -SHIFT:], img[:, :-SHIFT]], axis=1)\n",
        "    return img\n",
        "\n",
        "def img_aug_f(img):\n",
        "    img = time_shift(img)\n",
        "    img = spector_shift(img)\n",
        "    # img = rotate(img)\n",
        "    return img\n",
        "\n",
        "\n",
        "def imgs_aug_f(imgs, batch_size):\n",
        "    _imgs = []\n",
        "    DIM = IMAGE_SIZE\n",
        "    for j in range(batch_size):\n",
        "        _imgs.append(img_aug_f(imgs[j]))\n",
        "    return tf.reshape(tf.stack(_imgs),(batch_size,DIM,DIM,3))\n",
        "\n",
        "\n",
        "def label_positive_shift(labels):\n",
        "    return labels * LABEL_POSITIVE_SHIFT\n",
        "\n",
        "\n",
        "def aug_f(imgs, labels, batch_size):\n",
        "    imgs, label = mixup(imgs, labels, MIXUP_PROB, batch_size)\n",
        "    imgs = imgs_aug_f(imgs, batch_size)\n",
        "    return imgs, label_positive_shift(label)\n",
        "\n",
        "\n",
        "def prepare_image(wave, dim=256):\n",
        "    wave = tf.reshape(tf.io.decode_raw(wave, tf.float64), (3, 4096))\n",
        "    normalized_waves = []\n",
        "    for i in range(3):\n",
        "        normalized_wave = wave[i] / tf.math.reduce_max(wave[i])\n",
        "        normalized_waves.append(normalized_wave)\n",
        "    wave = tf.stack(normalized_waves)\n",
        "    wave = tf.cast(wave, tf.float32)\n",
        "    image = create_cqt_image(wave, HOP_LENGTH)\n",
        "    image = tf.image.resize(image, size=(dim, dim))\n",
        "    return tf.reshape(image, (dim, dim, 3))\n",
        "\n",
        "\n",
        "def get_dataset(files, batch_size=16, repeat=False, shuffle=False, aug=True, labeled=True, return_image_ids=True):\n",
        "    ds = tf.data.TFRecordDataset(files, num_parallel_reads=AUTO, compression_type=\"GZIP\")\n",
        "    ds = ds.cache()\n",
        "\n",
        "    if repeat:\n",
        "        ds = ds.repeat()\n",
        "\n",
        "    if shuffle:\n",
        "        ds = ds.shuffle(1024 * 2)\n",
        "        opt = tf.data.Options()\n",
        "        opt.experimental_deterministic = False\n",
        "        ds = ds.with_options(opt)\n",
        "\n",
        "    if labeled:\n",
        "        ds = ds.map(read_labeled_tfrecord, num_parallel_calls=AUTO)\n",
        "    else:\n",
        "        ds = ds.map(lambda example: read_unlabeled_tfrecord(example, return_image_ids), num_parallel_calls=AUTO)\n",
        "\n",
        "    ds = ds.batch(batch_size * REPLICAS)\n",
        "    if aug:\n",
        "        ds = ds.map(lambda x, y: aug_f(x, y, batch_size * REPLICAS), num_parallel_calls=AUTO)\n",
        "    ds = ds.prefetch(AUTO)\n",
        "    return ds"
      ],
      "id": "5427d834",
      "execution_count": 15,
      "outputs": []
    },
    {
      "cell_type": "markdown",
      "metadata": {
        "papermill": {
          "duration": 0.026736,
          "end_time": "2021-08-14T03:21:47.228345",
          "exception": false,
          "start_time": "2021-08-14T03:21:47.201609",
          "status": "completed"
        },
        "tags": [],
        "id": "c19fb098"
      },
      "source": [
        "## Model"
      ],
      "id": "c19fb098"
    },
    {
      "cell_type": "code",
      "metadata": {
        "execution": {
          "iopub.execute_input": "2021-08-14T03:21:47.289227Z",
          "iopub.status.busy": "2021-08-14T03:21:47.288225Z",
          "iopub.status.idle": "2021-08-14T03:21:47.297531Z",
          "shell.execute_reply": "2021-08-14T03:21:47.298092Z",
          "shell.execute_reply.started": "2021-08-13T14:37:09.546498Z"
        },
        "papermill": {
          "duration": 0.041171,
          "end_time": "2021-08-14T03:21:47.298274",
          "exception": false,
          "start_time": "2021-08-14T03:21:47.257103",
          "status": "completed"
        },
        "tags": [],
        "id": "b2328882"
      },
      "source": [
        "def build_model(size=256, efficientnet_size=0, weights=\"imagenet\", count=0):\n",
        "    inputs = tf.keras.layers.Input(shape=(size, size, 3))\n",
        "    \n",
        "    efn_string= f\"EfficientNetB{efficientnet_size}\"\n",
        "    efn_layer = getattr(efn, efn_string)(input_shape=(size, size, 3), weights=weights, include_top=False)\n",
        "\n",
        "    x = efn_layer(inputs)\n",
        "    x = tf.keras.layers.GlobalAveragePooling2D()(x)\n",
        "\n",
        "    x = tf.keras.layers.Dropout(0.2)(x)\n",
        "    x = tf.keras.layers.Dense(1, activation=\"sigmoid\")(x)\n",
        "    model = tf.keras.Model(inputs=inputs, outputs=x)\n",
        "\n",
        "    lr_decayed_fn = tf.keras.experimental.CosineDecay(1e-3, count)\n",
        "    opt = tfa.optimizers.AdamW(lr_decayed_fn, learning_rate=1e-4)\n",
        "    loss = tf.keras.losses.BinaryCrossentropy()\n",
        "    model.compile(optimizer=opt, loss=loss, metrics=[\"AUC\"])\n",
        "    return model"
      ],
      "id": "b2328882",
      "execution_count": 16,
      "outputs": []
    },
    {
      "cell_type": "code",
      "metadata": {
        "execution": {
          "iopub.execute_input": "2021-08-14T03:21:47.356496Z",
          "iopub.status.busy": "2021-08-14T03:21:47.355453Z",
          "iopub.status.idle": "2021-08-14T03:21:47.362944Z",
          "shell.execute_reply": "2021-08-14T03:21:47.363457Z",
          "shell.execute_reply.started": "2021-08-13T14:37:20.515265Z"
        },
        "papermill": {
          "duration": 0.038431,
          "end_time": "2021-08-14T03:21:47.363664",
          "exception": false,
          "start_time": "2021-08-14T03:21:47.325233",
          "status": "completed"
        },
        "tags": [],
        "id": "20f087fa"
      },
      "source": [
        "def get_lr_callback(batch_size=8, replicas=8):\n",
        "    lr_start   = 1e-4\n",
        "    lr_max     = 0.000015 * replicas * batch_size\n",
        "    lr_min     = 1e-7\n",
        "    lr_ramp_ep = 3\n",
        "    lr_sus_ep  = 0\n",
        "    lr_decay   = 0.7\n",
        "   \n",
        "    def lrfn(epoch):\n",
        "        if epoch < lr_ramp_ep:\n",
        "            lr = (lr_max - lr_start) / lr_ramp_ep * epoch + lr_start\n",
        "            \n",
        "        elif epoch < lr_ramp_ep + lr_sus_ep:\n",
        "            lr = lr_max\n",
        "            \n",
        "        else:\n",
        "            lr = (lr_max - lr_min) * lr_decay**(epoch - lr_ramp_ep - lr_sus_ep) + lr_min\n",
        "            \n",
        "        return lr\n",
        "\n",
        "    lr_callback = tf.keras.callbacks.LearningRateScheduler(lrfn, verbose=True)\n",
        "    return lr_callback"
      ],
      "id": "20f087fa",
      "execution_count": 17,
      "outputs": []
    },
    {
      "cell_type": "markdown",
      "metadata": {
        "papermill": {
          "duration": 0.025989,
          "end_time": "2021-08-14T03:21:47.416764",
          "exception": false,
          "start_time": "2021-08-14T03:21:47.390775",
          "status": "completed"
        },
        "tags": [],
        "id": "d03956e7"
      },
      "source": [
        "## Training"
      ],
      "id": "d03956e7"
    },
    {
      "cell_type": "code",
      "metadata": {
        "execution": {
          "iopub.execute_input": "2021-08-14T03:21:47.474034Z",
          "iopub.status.busy": "2021-08-14T03:21:47.472750Z",
          "iopub.status.idle": "2021-08-14T03:21:47.478270Z",
          "shell.execute_reply": "2021-08-14T03:21:47.478756Z",
          "shell.execute_reply.started": "2021-08-13T14:37:39.542538Z"
        },
        "papermill": {
          "duration": 0.035519,
          "end_time": "2021-08-14T03:21:47.478963",
          "exception": false,
          "start_time": "2021-08-14T03:21:47.443444",
          "status": "completed"
        },
        "tags": [],
        "id": "13be6a5c"
      },
      "source": [
        "kf = KFold(n_splits=NUM_FOLDS, shuffle=True, random_state=1213)\n",
        "oof_pred = []\n",
        "oof_target = []\n",
        "\n",
        "files_train_all = np.array(all_files)"
      ],
      "id": "13be6a5c",
      "execution_count": 18,
      "outputs": []
    },
    {
      "cell_type": "code",
      "metadata": {
        "execution": {
          "iopub.execute_input": "2021-08-14T03:21:47.537033Z",
          "iopub.status.busy": "2021-08-14T03:21:47.535849Z",
          "iopub.status.idle": "2021-08-14T09:51:31.679562Z",
          "shell.execute_reply": "2021-08-14T09:51:31.677363Z",
          "shell.execute_reply.started": "2021-08-13T14:38:04.590308Z"
        },
        "papermill": {
          "duration": 23384.174089,
          "end_time": "2021-08-14T09:51:31.679716",
          "exception": false,
          "start_time": "2021-08-14T03:21:47.505627",
          "status": "completed"
        },
        "tags": [],
        "colab": {
          "base_uri": "https://localhost:8080/",
          "height": 1000
        },
        "id": "2e5fe3d4",
        "outputId": "38dd151e-8253-4862-9815-093a8817d51b"
      },
      "source": [
        "for fold, (trn_idx, val_idx) in enumerate(kf.split(files_train_all)):\n",
        "    files_train = files_train_all[trn_idx]\n",
        "    files_valid = files_train_all[val_idx]\n",
        "\n",
        "    print(\"=\" * 120)\n",
        "    print(f\"Fold {fold}\")\n",
        "    print(\"=\" * 120)\n",
        "\n",
        "    train_image_count = count_data_items(files_train)\n",
        "    valid_image_count = count_data_items(files_valid)\n",
        "\n",
        "    tf.keras.backend.clear_session()\n",
        "    strategy, tpu_detected = auto_select_accelerator()\n",
        "    with strategy.scope():\n",
        "        model = build_model(\n",
        "            size=IMAGE_SIZE, \n",
        "            efficientnet_size=EFFICIENTNET_SIZE,\n",
        "            weights=WEIGHTS, \n",
        "            count=train_image_count // BATCH_SIZE // REPLICAS // 4)\n",
        "    \n",
        "    model_ckpt = tf.keras.callbacks.ModelCheckpoint(\n",
        "        str(SAVEDIR / f\"fold{fold}.h5\"), monitor=\"val_auc\", verbose=1, save_best_only=True,\n",
        "        save_weights_only=True, mode=\"max\", save_freq=\"epoch\"\n",
        "    )\n",
        "\n",
        "    history = model.fit(\n",
        "        get_dataset(files_train, batch_size=BATCH_SIZE, shuffle=True, repeat=True, aug=True),\n",
        "        epochs=EPOCHS,\n",
        "        callbacks=[model_ckpt, get_lr_callback(BATCH_SIZE, REPLICAS)],\n",
        "        steps_per_epoch=train_image_count // BATCH_SIZE // REPLICAS // 4,\n",
        "        validation_data=get_dataset(files_valid, batch_size=BATCH_SIZE * 4, repeat=False, shuffle=False, aug=False),\n",
        "        verbose=1\n",
        "    )\n",
        "\n",
        "    print(\"Loading best model...\")\n",
        "    model.load_weights(str(SAVEDIR / f\"fold{fold}.h5\"))\n",
        "\n",
        "    ds_valid = get_dataset(files_valid, labeled=False, return_image_ids=False, repeat=True, shuffle=False, batch_size=BATCH_SIZE * 2, aug=False)\n",
        "    STEPS = valid_image_count / BATCH_SIZE / 2 / REPLICAS\n",
        "    pred = model.predict(ds_valid, steps=STEPS, verbose=0)[:valid_image_count]\n",
        "    oof_pred.append(np.mean(pred.reshape((valid_image_count, 1), order=\"F\"), axis=1))\n",
        "\n",
        "    ds_valid = get_dataset(files_valid, repeat=False, labeled=True, return_image_ids=True, aug=False)\n",
        "    oof_target.append(np.array([target.numpy() for img, target in iter(ds_valid.unbatch())]))\n",
        "\n",
        "    plt.figure(figsize=(8, 6))\n",
        "    sns.distplot(oof_pred[-1])\n",
        "    plt.show()\n",
        "\n",
        "    plt.figure(figsize=(15, 5))\n",
        "    plt.plot(\n",
        "        np.arange(len(history.history[\"auc\"])),\n",
        "        history.history[\"auc\"],\n",
        "        \"-o\",\n",
        "        label=\"Train auc\",\n",
        "        color=\"#ff7f0e\")\n",
        "    plt.plot(\n",
        "        np.arange(len(history.history[\"auc\"])),\n",
        "        history.history[\"val_auc\"],\n",
        "        \"-o\",\n",
        "        label=\"Val auc\",\n",
        "        color=\"#1f77b4\")\n",
        "    \n",
        "    x = np.argmax(history.history[\"val_auc\"])\n",
        "    y = np.max(history.history[\"val_auc\"])\n",
        "\n",
        "    xdist = plt.xlim()[1] - plt.xlim()[0]\n",
        "    ydist = plt.ylim()[1] - plt.ylim()[0]\n",
        "\n",
        "    plt.scatter(x, y, s=200, color=\"#1f77b4\")\n",
        "    plt.text(x - 0.03 * xdist, y - 0.13 * ydist, f\"max auc\\n{y}\", size=14)\n",
        "\n",
        "    plt.ylabel(\"auc\", size=14)\n",
        "    plt.xlabel(\"Epoch\", size=14)\n",
        "    plt.legend(loc=2)\n",
        "\n",
        "    plt2 = plt.gca().twinx()\n",
        "    plt2.plot(\n",
        "        np.arange(len(history.history[\"auc\"])),\n",
        "        history.history[\"loss\"],\n",
        "        \"-o\",\n",
        "        label=\"Train Loss\",\n",
        "        color=\"#2ca02c\")\n",
        "    plt2.plot(\n",
        "        np.arange(len(history.history[\"auc\"])),\n",
        "        history.history[\"val_loss\"],\n",
        "        \"-o\",\n",
        "        label=\"Val Loss\",\n",
        "        color=\"#d62728\")\n",
        "    \n",
        "    x = np.argmin(history.history[\"val_loss\"])\n",
        "    y = np.min(history.history[\"val_loss\"])\n",
        "    \n",
        "    ydist = plt.ylim()[1] - plt.ylim()[0]\n",
        "\n",
        "    plt.scatter(x, y, s=200, color=\"#d62728\")\n",
        "    plt.text(x - 0.03 * xdist, y + 0.05 * ydist, \"min loss\", size=14)\n",
        "\n",
        "    plt.ylabel(\"Loss\", size=14)\n",
        "    plt.title(f\"Fold {fold + 1} - Image Size {IMAGE_SIZE}, EfficientNetB{EFFICIENTNET_SIZE}\", size=18)\n",
        "\n",
        "    plt.legend(loc=3)\n",
        "    plt.savefig(OOFDIR / f\"fig{fold}.png\")\n",
        "    plt.show()"
      ],
      "id": "2e5fe3d4",
      "execution_count": 19,
      "outputs": [
        {
          "output_type": "stream",
          "text": [
            "========================================================================================================================\n",
            "Fold 0\n",
            "========================================================================================================================\n",
            "WARNING:tensorflow:TPU system grpc://10.95.184.250:8470 has already been initialized. Reinitializing the TPU can cause previously created variables on TPU to be lost.\n"
          ],
          "name": "stdout"
        },
        {
          "output_type": "stream",
          "text": [
            "WARNING:tensorflow:TPU system grpc://10.95.184.250:8470 has already been initialized. Reinitializing the TPU can cause previously created variables on TPU to be lost.\n"
          ],
          "name": "stderr"
        },
        {
          "output_type": "stream",
          "text": [
            "INFO:tensorflow:Initializing the TPU system: grpc://10.95.184.250:8470\n"
          ],
          "name": "stdout"
        },
        {
          "output_type": "stream",
          "text": [
            "INFO:tensorflow:Initializing the TPU system: grpc://10.95.184.250:8470\n"
          ],
          "name": "stderr"
        },
        {
          "output_type": "stream",
          "text": [
            "INFO:tensorflow:Clearing out eager caches\n"
          ],
          "name": "stdout"
        },
        {
          "output_type": "stream",
          "text": [
            "INFO:tensorflow:Clearing out eager caches\n"
          ],
          "name": "stderr"
        },
        {
          "output_type": "stream",
          "text": [
            "INFO:tensorflow:Finished initializing TPU system.\n"
          ],
          "name": "stdout"
        },
        {
          "output_type": "stream",
          "text": [
            "INFO:tensorflow:Finished initializing TPU system.\n",
            "WARNING:absl:`tf.distribute.experimental.TPUStrategy` is deprecated, please use  the non experimental symbol `tf.distribute.TPUStrategy` instead.\n"
          ],
          "name": "stderr"
        },
        {
          "output_type": "stream",
          "text": [
            "INFO:tensorflow:Found TPU system:\n"
          ],
          "name": "stdout"
        },
        {
          "output_type": "stream",
          "text": [
            "INFO:tensorflow:Found TPU system:\n"
          ],
          "name": "stderr"
        },
        {
          "output_type": "stream",
          "text": [
            "INFO:tensorflow:*** Num TPU Cores: 8\n"
          ],
          "name": "stdout"
        },
        {
          "output_type": "stream",
          "text": [
            "INFO:tensorflow:*** Num TPU Cores: 8\n"
          ],
          "name": "stderr"
        },
        {
          "output_type": "stream",
          "text": [
            "INFO:tensorflow:*** Num TPU Workers: 1\n"
          ],
          "name": "stdout"
        },
        {
          "output_type": "stream",
          "text": [
            "INFO:tensorflow:*** Num TPU Workers: 1\n"
          ],
          "name": "stderr"
        },
        {
          "output_type": "stream",
          "text": [
            "INFO:tensorflow:*** Num TPU Cores Per Worker: 8\n"
          ],
          "name": "stdout"
        },
        {
          "output_type": "stream",
          "text": [
            "INFO:tensorflow:*** Num TPU Cores Per Worker: 8\n"
          ],
          "name": "stderr"
        },
        {
          "output_type": "stream",
          "text": [
            "INFO:tensorflow:*** Available Device: _DeviceAttributes(/job:localhost/replica:0/task:0/device:CPU:0, CPU, 0, 0)\n"
          ],
          "name": "stdout"
        },
        {
          "output_type": "stream",
          "text": [
            "INFO:tensorflow:*** Available Device: _DeviceAttributes(/job:localhost/replica:0/task:0/device:CPU:0, CPU, 0, 0)\n"
          ],
          "name": "stderr"
        },
        {
          "output_type": "stream",
          "text": [
            "INFO:tensorflow:*** Available Device: _DeviceAttributes(/job:worker/replica:0/task:0/device:CPU:0, CPU, 0, 0)\n"
          ],
          "name": "stdout"
        },
        {
          "output_type": "stream",
          "text": [
            "INFO:tensorflow:*** Available Device: _DeviceAttributes(/job:worker/replica:0/task:0/device:CPU:0, CPU, 0, 0)\n"
          ],
          "name": "stderr"
        },
        {
          "output_type": "stream",
          "text": [
            "INFO:tensorflow:*** Available Device: _DeviceAttributes(/job:worker/replica:0/task:0/device:TPU:0, TPU, 0, 0)\n"
          ],
          "name": "stdout"
        },
        {
          "output_type": "stream",
          "text": [
            "INFO:tensorflow:*** Available Device: _DeviceAttributes(/job:worker/replica:0/task:0/device:TPU:0, TPU, 0, 0)\n"
          ],
          "name": "stderr"
        },
        {
          "output_type": "stream",
          "text": [
            "INFO:tensorflow:*** Available Device: _DeviceAttributes(/job:worker/replica:0/task:0/device:TPU:1, TPU, 0, 0)\n"
          ],
          "name": "stdout"
        },
        {
          "output_type": "stream",
          "text": [
            "INFO:tensorflow:*** Available Device: _DeviceAttributes(/job:worker/replica:0/task:0/device:TPU:1, TPU, 0, 0)\n"
          ],
          "name": "stderr"
        },
        {
          "output_type": "stream",
          "text": [
            "INFO:tensorflow:*** Available Device: _DeviceAttributes(/job:worker/replica:0/task:0/device:TPU:2, TPU, 0, 0)\n"
          ],
          "name": "stdout"
        },
        {
          "output_type": "stream",
          "text": [
            "INFO:tensorflow:*** Available Device: _DeviceAttributes(/job:worker/replica:0/task:0/device:TPU:2, TPU, 0, 0)\n"
          ],
          "name": "stderr"
        },
        {
          "output_type": "stream",
          "text": [
            "INFO:tensorflow:*** Available Device: _DeviceAttributes(/job:worker/replica:0/task:0/device:TPU:3, TPU, 0, 0)\n"
          ],
          "name": "stdout"
        },
        {
          "output_type": "stream",
          "text": [
            "INFO:tensorflow:*** Available Device: _DeviceAttributes(/job:worker/replica:0/task:0/device:TPU:3, TPU, 0, 0)\n"
          ],
          "name": "stderr"
        },
        {
          "output_type": "stream",
          "text": [
            "INFO:tensorflow:*** Available Device: _DeviceAttributes(/job:worker/replica:0/task:0/device:TPU:4, TPU, 0, 0)\n"
          ],
          "name": "stdout"
        },
        {
          "output_type": "stream",
          "text": [
            "INFO:tensorflow:*** Available Device: _DeviceAttributes(/job:worker/replica:0/task:0/device:TPU:4, TPU, 0, 0)\n"
          ],
          "name": "stderr"
        },
        {
          "output_type": "stream",
          "text": [
            "INFO:tensorflow:*** Available Device: _DeviceAttributes(/job:worker/replica:0/task:0/device:TPU:5, TPU, 0, 0)\n"
          ],
          "name": "stdout"
        },
        {
          "output_type": "stream",
          "text": [
            "INFO:tensorflow:*** Available Device: _DeviceAttributes(/job:worker/replica:0/task:0/device:TPU:5, TPU, 0, 0)\n"
          ],
          "name": "stderr"
        },
        {
          "output_type": "stream",
          "text": [
            "INFO:tensorflow:*** Available Device: _DeviceAttributes(/job:worker/replica:0/task:0/device:TPU:6, TPU, 0, 0)\n"
          ],
          "name": "stdout"
        },
        {
          "output_type": "stream",
          "text": [
            "INFO:tensorflow:*** Available Device: _DeviceAttributes(/job:worker/replica:0/task:0/device:TPU:6, TPU, 0, 0)\n"
          ],
          "name": "stderr"
        },
        {
          "output_type": "stream",
          "text": [
            "INFO:tensorflow:*** Available Device: _DeviceAttributes(/job:worker/replica:0/task:0/device:TPU:7, TPU, 0, 0)\n"
          ],
          "name": "stdout"
        },
        {
          "output_type": "stream",
          "text": [
            "INFO:tensorflow:*** Available Device: _DeviceAttributes(/job:worker/replica:0/task:0/device:TPU:7, TPU, 0, 0)\n"
          ],
          "name": "stderr"
        },
        {
          "output_type": "stream",
          "text": [
            "INFO:tensorflow:*** Available Device: _DeviceAttributes(/job:worker/replica:0/task:0/device:TPU_SYSTEM:0, TPU_SYSTEM, 0, 0)\n"
          ],
          "name": "stdout"
        },
        {
          "output_type": "stream",
          "text": [
            "INFO:tensorflow:*** Available Device: _DeviceAttributes(/job:worker/replica:0/task:0/device:TPU_SYSTEM:0, TPU_SYSTEM, 0, 0)\n"
          ],
          "name": "stderr"
        },
        {
          "output_type": "stream",
          "text": [
            "INFO:tensorflow:*** Available Device: _DeviceAttributes(/job:worker/replica:0/task:0/device:XLA_CPU:0, XLA_CPU, 0, 0)\n"
          ],
          "name": "stdout"
        },
        {
          "output_type": "stream",
          "text": [
            "INFO:tensorflow:*** Available Device: _DeviceAttributes(/job:worker/replica:0/task:0/device:XLA_CPU:0, XLA_CPU, 0, 0)\n"
          ],
          "name": "stderr"
        },
        {
          "output_type": "stream",
          "text": [
            "Running on TPU: grpc://10.95.184.250:8470\n",
            "Running on 8 replicas\n",
            "Downloading data from https://github.com/Callidior/keras-applications/releases/download/efficientnet/efficientnet-b7_weights_tf_dim_ordering_tf_kernels_autoaugment_notop.h5\n",
            "258441216/258434480 [==============================] - 3s 0us/step\n",
            "Epoch 1/20\n",
            "\n",
            "Epoch 00001: LearningRateScheduler reducing learning rate to 0.0001.\n",
            "410/410 [==============================] - 685s 991ms/step - loss: 0.5379 - auc: 0.7851 - val_loss: 0.6899 - val_auc: 0.5635\n",
            "\n",
            "Epoch 00001: val_auc improved from -inf to 0.56351, saving model to models/fold0.h5\n",
            "Epoch 2/20\n",
            "\n",
            "Epoch 00002: LearningRateScheduler reducing learning rate to 0.0013466666666666668.\n",
            "410/410 [==============================] - 338s 825ms/step - loss: 0.4981 - auc: 0.8197 - val_loss: 0.4545 - val_auc: 0.8465\n",
            "\n",
            "Epoch 00002: val_auc improved from 0.56351 to 0.84652, saving model to models/fold0.h5\n",
            "Epoch 3/20\n",
            "\n",
            "Epoch 00003: LearningRateScheduler reducing learning rate to 0.0025933333333333333.\n",
            "410/410 [==============================] - 337s 823ms/step - loss: 0.4742 - auc: 0.8376 - val_loss: 0.4601 - val_auc: 0.8453\n",
            "\n",
            "Epoch 00003: val_auc did not improve from 0.84652\n",
            "Epoch 4/20\n",
            "\n",
            "Epoch 00004: LearningRateScheduler reducing learning rate to 0.00384.\n",
            "410/410 [==============================] - 338s 825ms/step - loss: 0.4719 - auc: 0.8398 - val_loss: 0.7132 - val_auc: 0.8359\n",
            "\n",
            "Epoch 00004: val_auc did not improve from 0.84652\n",
            "Epoch 5/20\n",
            "\n",
            "Epoch 00005: LearningRateScheduler reducing learning rate to 0.0026880299999999997.\n",
            "410/410 [==============================] - 337s 823ms/step - loss: 0.4533 - auc: 0.8524 - val_loss: 0.4835 - val_auc: 0.8542\n",
            "\n",
            "Epoch 00005: val_auc improved from 0.84652 to 0.85419, saving model to models/fold0.h5\n",
            "Epoch 6/20\n",
            "\n",
            "Epoch 00006: LearningRateScheduler reducing learning rate to 0.001881651.\n",
            "410/410 [==============================] - 338s 824ms/step - loss: 0.4517 - auc: 0.8526 - val_loss: 0.5085 - val_auc: 0.8546\n",
            "\n",
            "Epoch 00006: val_auc improved from 0.85419 to 0.85461, saving model to models/fold0.h5\n",
            "Epoch 7/20\n",
            "\n",
            "Epoch 00007: LearningRateScheduler reducing learning rate to 0.0013171856999999998.\n",
            "410/410 [==============================] - 337s 823ms/step - loss: 0.4421 - auc: 0.8598 - val_loss: 0.4494 - val_auc: 0.8556\n",
            "\n",
            "Epoch 00007: val_auc improved from 0.85461 to 0.85562, saving model to models/fold0.h5\n",
            "Epoch 8/20\n",
            "\n",
            "Epoch 00008: LearningRateScheduler reducing learning rate to 0.0009220599899999999.\n",
            "410/410 [==============================] - 338s 824ms/step - loss: 0.4409 - auc: 0.8605 - val_loss: 0.4289 - val_auc: 0.8626\n",
            "\n",
            "Epoch 00008: val_auc improved from 0.85562 to 0.86256, saving model to models/fold0.h5\n",
            "Epoch 9/20\n",
            "\n",
            "Epoch 00009: LearningRateScheduler reducing learning rate to 0.0006454719929999997.\n",
            "410/410 [==============================] - 337s 822ms/step - loss: 0.4328 - auc: 0.8654 - val_loss: 0.4428 - val_auc: 0.8619\n",
            "\n",
            "Epoch 00009: val_auc did not improve from 0.86256\n",
            "Epoch 10/20\n",
            "\n",
            "Epoch 00010: LearningRateScheduler reducing learning rate to 0.00045186039509999986.\n",
            "410/410 [==============================] - 337s 823ms/step - loss: 0.4351 - auc: 0.8634 - val_loss: 0.4255 - val_auc: 0.8653\n",
            "\n",
            "Epoch 00010: val_auc improved from 0.86256 to 0.86535, saving model to models/fold0.h5\n",
            "Epoch 11/20\n",
            "\n",
            "Epoch 00011: LearningRateScheduler reducing learning rate to 0.00031633227656999987.\n",
            "410/410 [==============================] - 337s 822ms/step - loss: 0.4289 - auc: 0.8685 - val_loss: 0.4257 - val_auc: 0.8657\n",
            "\n",
            "Epoch 00011: val_auc improved from 0.86535 to 0.86569, saving model to models/fold0.h5\n",
            "Epoch 12/20\n",
            "\n",
            "Epoch 00012: LearningRateScheduler reducing learning rate to 0.0002214625935989999.\n",
            "410/410 [==============================] - 337s 823ms/step - loss: 0.4294 - auc: 0.8680 - val_loss: 0.4232 - val_auc: 0.8659\n",
            "\n",
            "Epoch 00012: val_auc improved from 0.86569 to 0.86593, saving model to models/fold0.h5\n",
            "Epoch 13/20\n",
            "\n",
            "Epoch 00013: LearningRateScheduler reducing learning rate to 0.00015505381551929993.\n",
            "410/410 [==============================] - 337s 823ms/step - loss: 0.4222 - auc: 0.8722 - val_loss: 0.4265 - val_auc: 0.8664\n",
            "\n",
            "Epoch 00013: val_auc improved from 0.86593 to 0.86637, saving model to models/fold0.h5\n",
            "Epoch 14/20\n",
            "\n",
            "Epoch 00014: LearningRateScheduler reducing learning rate to 0.00010856767086350995.\n",
            "410/410 [==============================] - 337s 823ms/step - loss: 0.4260 - auc: 0.8697 - val_loss: 0.4205 - val_auc: 0.8668\n",
            "\n",
            "Epoch 00014: val_auc improved from 0.86637 to 0.86684, saving model to models/fold0.h5\n",
            "Epoch 15/20\n",
            "\n",
            "Epoch 00015: LearningRateScheduler reducing learning rate to 7.602736960445695e-05.\n",
            "410/410 [==============================] - 337s 823ms/step - loss: 0.4215 - auc: 0.8728 - val_loss: 0.4211 - val_auc: 0.8668\n",
            "\n",
            "Epoch 00015: val_auc did not improve from 0.86684\n",
            "Epoch 16/20\n",
            "\n",
            "Epoch 00016: LearningRateScheduler reducing learning rate to 5.324915872311987e-05.\n",
            "410/410 [==============================] - 337s 823ms/step - loss: 0.4229 - auc: 0.8722 - val_loss: 0.4206 - val_auc: 0.8668\n",
            "\n",
            "Epoch 00016: val_auc did not improve from 0.86684\n",
            "Epoch 17/20\n",
            "\n",
            "Epoch 00017: LearningRateScheduler reducing learning rate to 3.7304411106183906e-05.\n",
            "410/410 [==============================] - 338s 824ms/step - loss: 0.4173 - auc: 0.8756 - val_loss: 0.4210 - val_auc: 0.8669\n",
            "\n",
            "Epoch 00017: val_auc improved from 0.86684 to 0.86695, saving model to models/fold0.h5\n",
            "Epoch 18/20\n",
            "\n",
            "Epoch 00018: LearningRateScheduler reducing learning rate to 2.614308777432873e-05.\n",
            "410/410 [==============================] - 337s 823ms/step - loss: 0.4221 - auc: 0.8722 - val_loss: 0.4196 - val_auc: 0.8671\n",
            "\n",
            "Epoch 00018: val_auc improved from 0.86695 to 0.86705, saving model to models/fold0.h5\n",
            "Epoch 19/20\n",
            "\n",
            "Epoch 00019: LearningRateScheduler reducing learning rate to 1.833016144203011e-05.\n",
            "410/410 [==============================] - 337s 823ms/step - loss: 0.4181 - auc: 0.8750 - val_loss: 0.4202 - val_auc: 0.8670\n",
            "\n",
            "Epoch 00019: val_auc did not improve from 0.86705\n",
            "Epoch 20/20\n",
            "\n",
            "Epoch 00020: LearningRateScheduler reducing learning rate to 1.2861113009421077e-05.\n",
            "410/410 [==============================] - 337s 823ms/step - loss: 0.4208 - auc: 0.8733 - val_loss: 0.4198 - val_auc: 0.8670\n",
            "\n",
            "Epoch 00020: val_auc did not improve from 0.86705\n",
            "Loading best model...\n"
          ],
          "name": "stdout"
        },
        {
          "output_type": "stream",
          "text": [
            "/usr/local/lib/python3.7/dist-packages/seaborn/distributions.py:2557: FutureWarning: `distplot` is a deprecated function and will be removed in a future version. Please adapt your code to use either `displot` (a figure-level function with similar flexibility) or `histplot` (an axes-level function for histograms).\n",
            "  warnings.warn(msg, FutureWarning)\n"
          ],
          "name": "stderr"
        },
        {
          "output_type": "display_data",
          "data": {
            "image/png": "[encoded data removed]",
            "text/plain": [
              "<Figure size 576x432 with 1 Axes>"
            ]
          },
          "metadata": {
            "tags": []
          }
        },
        {
          "output_type": "display_data",
          "data": {
            "image/png": "[encoded data removed]",
            "text/plain": [
              "<Figure size 1080x360 with 2 Axes>"
            ]
          },
          "metadata": {
            "tags": []
          }
        },
        {
          "output_type": "stream",
          "text": [
            "========================================================================================================================\n",
            "Fold 1\n",
            "========================================================================================================================\n",
            "WARNING:tensorflow:TPU system grpc://10.95.184.250:8470 has already been initialized. Reinitializing the TPU can cause previously created variables on TPU to be lost.\n"
          ],
          "name": "stdout"
        },
        {
          "output_type": "stream",
          "text": [
            "WARNING:tensorflow:TPU system grpc://10.95.184.250:8470 has already been initialized. Reinitializing the TPU can cause previously created variables on TPU to be lost.\n"
          ],
          "name": "stderr"
        },
        {
          "output_type": "stream",
          "text": [
            "INFO:tensorflow:Initializing the TPU system: grpc://10.95.184.250:8470\n"
          ],
          "name": "stdout"
        },
        {
          "output_type": "stream",
          "text": [
            "INFO:tensorflow:Initializing the TPU system: grpc://10.95.184.250:8470\n"
          ],
          "name": "stderr"
        },
        {
          "output_type": "stream",
          "text": [
            "INFO:tensorflow:Clearing out eager caches\n"
          ],
          "name": "stdout"
        },
        {
          "output_type": "stream",
          "text": [
            "INFO:tensorflow:Clearing out eager caches\n"
          ],
          "name": "stderr"
        },
        {
          "output_type": "stream",
          "text": [
            "INFO:tensorflow:Finished initializing TPU system.\n"
          ],
          "name": "stdout"
        },
        {
          "output_type": "stream",
          "text": [
            "INFO:tensorflow:Finished initializing TPU system.\n",
            "WARNING:absl:`tf.distribute.experimental.TPUStrategy` is deprecated, please use  the non experimental symbol `tf.distribute.TPUStrategy` instead.\n"
          ],
          "name": "stderr"
        },
        {
          "output_type": "stream",
          "text": [
            "INFO:tensorflow:Found TPU system:\n"
          ],
          "name": "stdout"
        },
        {
          "output_type": "stream",
          "text": [
            "INFO:tensorflow:Found TPU system:\n"
          ],
          "name": "stderr"
        },
        {
          "output_type": "stream",
          "text": [
            "INFO:tensorflow:*** Num TPU Cores: 8\n"
          ],
          "name": "stdout"
        },
        {
          "output_type": "stream",
          "text": [
            "INFO:tensorflow:*** Num TPU Cores: 8\n"
          ],
          "name": "stderr"
        },
        {
          "output_type": "stream",
          "text": [
            "INFO:tensorflow:*** Num TPU Workers: 1\n"
          ],
          "name": "stdout"
        },
        {
          "output_type": "stream",
          "text": [
            "INFO:tensorflow:*** Num TPU Workers: 1\n"
          ],
          "name": "stderr"
        },
        {
          "output_type": "stream",
          "text": [
            "INFO:tensorflow:*** Num TPU Cores Per Worker: 8\n"
          ],
          "name": "stdout"
        },
        {
          "output_type": "stream",
          "text": [
            "INFO:tensorflow:*** Num TPU Cores Per Worker: 8\n"
          ],
          "name": "stderr"
        },
        {
          "output_type": "stream",
          "text": [
            "INFO:tensorflow:*** Available Device: _DeviceAttributes(/job:localhost/replica:0/task:0/device:CPU:0, CPU, 0, 0)\n"
          ],
          "name": "stdout"
        },
        {
          "output_type": "stream",
          "text": [
            "INFO:tensorflow:*** Available Device: _DeviceAttributes(/job:localhost/replica:0/task:0/device:CPU:0, CPU, 0, 0)\n"
          ],
          "name": "stderr"
        },
        {
          "output_type": "stream",
          "text": [
            "INFO:tensorflow:*** Available Device: _DeviceAttributes(/job:worker/replica:0/task:0/device:CPU:0, CPU, 0, 0)\n"
          ],
          "name": "stdout"
        },
        {
          "output_type": "stream",
          "text": [
            "INFO:tensorflow:*** Available Device: _DeviceAttributes(/job:worker/replica:0/task:0/device:CPU:0, CPU, 0, 0)\n"
          ],
          "name": "stderr"
        },
        {
          "output_type": "stream",
          "text": [
            "INFO:tensorflow:*** Available Device: _DeviceAttributes(/job:worker/replica:0/task:0/device:TPU:0, TPU, 0, 0)\n"
          ],
          "name": "stdout"
        },
        {
          "output_type": "stream",
          "text": [
            "INFO:tensorflow:*** Available Device: _DeviceAttributes(/job:worker/replica:0/task:0/device:TPU:0, TPU, 0, 0)\n"
          ],
          "name": "stderr"
        },
        {
          "output_type": "stream",
          "text": [
            "INFO:tensorflow:*** Available Device: _DeviceAttributes(/job:worker/replica:0/task:0/device:TPU:1, TPU, 0, 0)\n"
          ],
          "name": "stdout"
        },
        {
          "output_type": "stream",
          "text": [
            "INFO:tensorflow:*** Available Device: _DeviceAttributes(/job:worker/replica:0/task:0/device:TPU:1, TPU, 0, 0)\n"
          ],
          "name": "stderr"
        },
        {
          "output_type": "stream",
          "text": [
            "INFO:tensorflow:*** Available Device: _DeviceAttributes(/job:worker/replica:0/task:0/device:TPU:2, TPU, 0, 0)\n"
          ],
          "name": "stdout"
        },
        {
          "output_type": "stream",
          "text": [
            "INFO:tensorflow:*** Available Device: _DeviceAttributes(/job:worker/replica:0/task:0/device:TPU:2, TPU, 0, 0)\n"
          ],
          "name": "stderr"
        },
        {
          "output_type": "stream",
          "text": [
            "INFO:tensorflow:*** Available Device: _DeviceAttributes(/job:worker/replica:0/task:0/device:TPU:3, TPU, 0, 0)\n"
          ],
          "name": "stdout"
        },
        {
          "output_type": "stream",
          "text": [
            "INFO:tensorflow:*** Available Device: _DeviceAttributes(/job:worker/replica:0/task:0/device:TPU:3, TPU, 0, 0)\n"
          ],
          "name": "stderr"
        },
        {
          "output_type": "stream",
          "text": [
            "INFO:tensorflow:*** Available Device: _DeviceAttributes(/job:worker/replica:0/task:0/device:TPU:4, TPU, 0, 0)\n"
          ],
          "name": "stdout"
        },
        {
          "output_type": "stream",
          "text": [
            "INFO:tensorflow:*** Available Device: _DeviceAttributes(/job:worker/replica:0/task:0/device:TPU:4, TPU, 0, 0)\n"
          ],
          "name": "stderr"
        },
        {
          "output_type": "stream",
          "text": [
            "INFO:tensorflow:*** Available Device: _DeviceAttributes(/job:worker/replica:0/task:0/device:TPU:5, TPU, 0, 0)\n"
          ],
          "name": "stdout"
        },
        {
          "output_type": "stream",
          "text": [
            "INFO:tensorflow:*** Available Device: _DeviceAttributes(/job:worker/replica:0/task:0/device:TPU:5, TPU, 0, 0)\n"
          ],
          "name": "stderr"
        },
        {
          "output_type": "stream",
          "text": [
            "INFO:tensorflow:*** Available Device: _DeviceAttributes(/job:worker/replica:0/task:0/device:TPU:6, TPU, 0, 0)\n"
          ],
          "name": "stdout"
        },
        {
          "output_type": "stream",
          "text": [
            "INFO:tensorflow:*** Available Device: _DeviceAttributes(/job:worker/replica:0/task:0/device:TPU:6, TPU, 0, 0)\n"
          ],
          "name": "stderr"
        },
        {
          "output_type": "stream",
          "text": [
            "INFO:tensorflow:*** Available Device: _DeviceAttributes(/job:worker/replica:0/task:0/device:TPU:7, TPU, 0, 0)\n"
          ],
          "name": "stdout"
        },
        {
          "output_type": "stream",
          "text": [
            "INFO:tensorflow:*** Available Device: _DeviceAttributes(/job:worker/replica:0/task:0/device:TPU:7, TPU, 0, 0)\n"
          ],
          "name": "stderr"
        },
        {
          "output_type": "stream",
          "text": [
            "INFO:tensorflow:*** Available Device: _DeviceAttributes(/job:worker/replica:0/task:0/device:TPU_SYSTEM:0, TPU_SYSTEM, 0, 0)\n"
          ],
          "name": "stdout"
        },
        {
          "output_type": "stream",
          "text": [
            "INFO:tensorflow:*** Available Device: _DeviceAttributes(/job:worker/replica:0/task:0/device:TPU_SYSTEM:0, TPU_SYSTEM, 0, 0)\n"
          ],
          "name": "stderr"
        },
        {
          "output_type": "stream",
          "text": [
            "INFO:tensorflow:*** Available Device: _DeviceAttributes(/job:worker/replica:0/task:0/device:XLA_CPU:0, XLA_CPU, 0, 0)\n"
          ],
          "name": "stdout"
        },
        {
          "output_type": "stream",
          "text": [
            "INFO:tensorflow:*** Available Device: _DeviceAttributes(/job:worker/replica:0/task:0/device:XLA_CPU:0, XLA_CPU, 0, 0)\n"
          ],
          "name": "stderr"
        },
        {
          "output_type": "stream",
          "text": [
            "Running on TPU: grpc://10.95.184.250:8470\n",
            "Running on 8 replicas\n",
            "Epoch 1/20\n",
            "\n",
            "Epoch 00001: LearningRateScheduler reducing learning rate to 0.0001.\n",
            "410/410 [==============================] - 653s 880ms/step - loss: 0.5369 - auc: 0.7864 - val_loss: 0.6844 - val_auc: 0.6126\n",
            "\n",
            "Epoch 00001: val_auc improved from -inf to 0.61261, saving model to models/fold1.h5\n",
            "Epoch 2/20\n",
            "\n",
            "Epoch 00002: LearningRateScheduler reducing learning rate to 0.0013466666666666668.\n",
            "410/410 [==============================] - 339s 826ms/step - loss: 0.4958 - auc: 0.8213 - val_loss: 0.4671 - val_auc: 0.8358\n",
            "\n",
            "Epoch 00002: val_auc improved from 0.61261 to 0.83581, saving model to models/fold1.h5\n",
            "Epoch 3/20\n",
            "\n",
            "Epoch 00003: LearningRateScheduler reducing learning rate to 0.0025933333333333333.\n",
            "410/410 [==============================] - 339s 826ms/step - loss: 0.4774 - auc: 0.8358 - val_loss: 0.5289 - val_auc: 0.8406\n",
            "\n",
            "Epoch 00003: val_auc improved from 0.83581 to 0.84064, saving model to models/fold1.h5\n",
            "Epoch 4/20\n",
            "\n",
            "Epoch 00004: LearningRateScheduler reducing learning rate to 0.00384.\n",
            "410/410 [==============================] - 340s 829ms/step - loss: 0.4726 - auc: 0.8382 - val_loss: 0.6811 - val_auc: 0.8415\n",
            "\n",
            "Epoch 00004: val_auc improved from 0.84064 to 0.84148, saving model to models/fold1.h5\n",
            "Epoch 5/20\n",
            "\n",
            "Epoch 00005: LearningRateScheduler reducing learning rate to 0.0026880299999999997.\n",
            "410/410 [==============================] - 339s 826ms/step - loss: 0.4547 - auc: 0.8511 - val_loss: 0.5729 - val_auc: 0.8521\n",
            "\n",
            "Epoch 00005: val_auc improved from 0.84148 to 0.85213, saving model to models/fold1.h5\n",
            "Epoch 6/20\n",
            "\n",
            "Epoch 00006: LearningRateScheduler reducing learning rate to 0.001881651.\n",
            "410/410 [==============================] - 339s 827ms/step - loss: 0.4486 - auc: 0.8551 - val_loss: 0.4908 - val_auc: 0.8539\n",
            "\n",
            "Epoch 00006: val_auc improved from 0.85213 to 0.85389, saving model to models/fold1.h5\n",
            "Epoch 7/20\n",
            "\n",
            "Epoch 00007: LearningRateScheduler reducing learning rate to 0.0013171856999999998.\n",
            "410/410 [==============================] - 339s 827ms/step - loss: 0.4427 - auc: 0.8598 - val_loss: 0.4359 - val_auc: 0.8577\n",
            "\n",
            "Epoch 00007: val_auc improved from 0.85389 to 0.85767, saving model to models/fold1.h5\n",
            "Epoch 8/20\n",
            "\n",
            "Epoch 00008: LearningRateScheduler reducing learning rate to 0.0009220599899999999.\n",
            "410/410 [==============================] - 339s 827ms/step - loss: 0.4401 - auc: 0.8608 - val_loss: 0.4297 - val_auc: 0.8618\n",
            "\n",
            "Epoch 00008: val_auc improved from 0.85767 to 0.86176, saving model to models/fold1.h5\n",
            "Epoch 9/20\n",
            "\n",
            "Epoch 00009: LearningRateScheduler reducing learning rate to 0.0006454719929999997.\n",
            "410/410 [==============================] - 339s 827ms/step - loss: 0.4340 - auc: 0.8653 - val_loss: 0.4351 - val_auc: 0.8607\n",
            "\n",
            "Epoch 00009: val_auc did not improve from 0.86176\n",
            "Epoch 10/20\n",
            "\n",
            "Epoch 00010: LearningRateScheduler reducing learning rate to 0.00045186039509999986.\n",
            "410/410 [==============================] - 339s 827ms/step - loss: 0.4323 - auc: 0.8657 - val_loss: 0.4262 - val_auc: 0.8635\n",
            "\n",
            "Epoch 00010: val_auc improved from 0.86176 to 0.86348, saving model to models/fold1.h5\n",
            "Epoch 11/20\n",
            "\n",
            "Epoch 00011: LearningRateScheduler reducing learning rate to 0.00031633227656999987.\n",
            "410/410 [==============================] - 339s 827ms/step - loss: 0.4301 - auc: 0.8678 - val_loss: 0.4251 - val_auc: 0.8647\n",
            "\n",
            "Epoch 00011: val_auc improved from 0.86348 to 0.86474, saving model to models/fold1.h5\n",
            "Epoch 12/20\n",
            "\n",
            "Epoch 00012: LearningRateScheduler reducing learning rate to 0.0002214625935989999.\n",
            "410/410 [==============================] - 339s 827ms/step - loss: 0.4289 - auc: 0.8679 - val_loss: 0.4284 - val_auc: 0.8638\n",
            "\n",
            "Epoch 00012: val_auc did not improve from 0.86474\n",
            "Epoch 13/20\n",
            "\n",
            "Epoch 00013: LearningRateScheduler reducing learning rate to 0.00015505381551929993.\n",
            "410/410 [==============================] - 339s 826ms/step - loss: 0.4232 - auc: 0.8718 - val_loss: 0.4233 - val_auc: 0.8651\n",
            "\n",
            "Epoch 00013: val_auc improved from 0.86474 to 0.86506, saving model to models/fold1.h5\n",
            "Epoch 14/20\n",
            "\n",
            "Epoch 00014: LearningRateScheduler reducing learning rate to 0.00010856767086350995.\n",
            "410/410 [==============================] - 339s 827ms/step - loss: 0.4234 - auc: 0.8712 - val_loss: 0.4245 - val_auc: 0.8654\n",
            "\n",
            "Epoch 00014: val_auc improved from 0.86506 to 0.86541, saving model to models/fold1.h5\n",
            "Epoch 15/20\n",
            "\n",
            "Epoch 00015: LearningRateScheduler reducing learning rate to 7.602736960445695e-05.\n",
            "410/410 [==============================] - 339s 828ms/step - loss: 0.4214 - auc: 0.8730 - val_loss: 0.4220 - val_auc: 0.8655\n",
            "\n",
            "Epoch 00015: val_auc improved from 0.86541 to 0.86554, saving model to models/fold1.h5\n",
            "Epoch 16/20\n",
            "\n",
            "Epoch 00016: LearningRateScheduler reducing learning rate to 5.324915872311987e-05.\n",
            "410/410 [==============================] - 339s 827ms/step - loss: 0.4225 - auc: 0.8718 - val_loss: 0.4224 - val_auc: 0.8656\n",
            "\n",
            "Epoch 00016: val_auc improved from 0.86554 to 0.86558, saving model to models/fold1.h5\n",
            "Epoch 17/20\n",
            "\n",
            "Epoch 00017: LearningRateScheduler reducing learning rate to 3.7304411106183906e-05.\n",
            "410/410 [==============================] - 338s 826ms/step - loss: 0.4179 - auc: 0.8752 - val_loss: 0.4221 - val_auc: 0.8657\n",
            "\n",
            "Epoch 00017: val_auc improved from 0.86558 to 0.86571, saving model to models/fold1.h5\n",
            "Epoch 18/20\n",
            "\n",
            "Epoch 00018: LearningRateScheduler reducing learning rate to 2.614308777432873e-05.\n",
            "410/410 [==============================] - 339s 827ms/step - loss: 0.4187 - auc: 0.8741 - val_loss: 0.4225 - val_auc: 0.8657\n",
            "\n",
            "Epoch 00018: val_auc improved from 0.86571 to 0.86571, saving model to models/fold1.h5\n",
            "Epoch 19/20\n",
            "\n",
            "Epoch 00019: LearningRateScheduler reducing learning rate to 1.833016144203011e-05.\n",
            "410/410 [==============================] - 339s 827ms/step - loss: 0.4182 - auc: 0.8750 - val_loss: 0.4220 - val_auc: 0.8657\n",
            "\n",
            "Epoch 00019: val_auc did not improve from 0.86571\n",
            "Epoch 20/20\n",
            "\n",
            "Epoch 00020: LearningRateScheduler reducing learning rate to 1.2861113009421077e-05.\n",
            "410/410 [==============================] - 339s 827ms/step - loss: 0.4196 - auc: 0.8739 - val_loss: 0.4221 - val_auc: 0.8657\n",
            "\n",
            "Epoch 00020: val_auc improved from 0.86571 to 0.86574, saving model to models/fold1.h5\n",
            "Loading best model...\n"
          ],
          "name": "stdout"
        },
        {
          "output_type": "stream",
          "text": [
            "/usr/local/lib/python3.7/dist-packages/seaborn/distributions.py:2557: FutureWarning: `distplot` is a deprecated function and will be removed in a future version. Please adapt your code to use either `displot` (a figure-level function with similar flexibility) or `histplot` (an axes-level function for histograms).\n",
            "  warnings.warn(msg, FutureWarning)\n"
          ],
          "name": "stderr"
        },
        {
          "output_type": "display_data",
          "data": {
            "image/png": "[encoded data removed]",
            "text/plain": [
              "<Figure size 576x432 with 1 Axes>"
            ]
          },
          "metadata": {
            "tags": []
          }
        },
        {
          "output_type": "display_data",
          "data": {
            "image/png": "[encoded data removed]",
            "text/plain": [
              "<Figure size 1080x360 with 2 Axes>"
            ]
          },
          "metadata": {
            "tags": []
          }
        },
        {
          "output_type": "stream",
          "text": [
            "========================================================================================================================\n",
            "Fold 2\n",
            "========================================================================================================================\n",
            "WARNING:tensorflow:TPU system grpc://10.95.184.250:8470 has already been initialized. Reinitializing the TPU can cause previously created variables on TPU to be lost.\n"
          ],
          "name": "stdout"
        },
        {
          "output_type": "stream",
          "text": [
            "WARNING:tensorflow:TPU system grpc://10.95.184.250:8470 has already been initialized. Reinitializing the TPU can cause previously created variables on TPU to be lost.\n"
          ],
          "name": "stderr"
        },
        {
          "output_type": "stream",
          "text": [
            "INFO:tensorflow:Initializing the TPU system: grpc://10.95.184.250:8470\n"
          ],
          "name": "stdout"
        },
        {
          "output_type": "stream",
          "text": [
            "INFO:tensorflow:Initializing the TPU system: grpc://10.95.184.250:8470\n"
          ],
          "name": "stderr"
        },
        {
          "output_type": "stream",
          "text": [
            "INFO:tensorflow:Clearing out eager caches\n"
          ],
          "name": "stdout"
        },
        {
          "output_type": "stream",
          "text": [
            "INFO:tensorflow:Clearing out eager caches\n"
          ],
          "name": "stderr"
        },
        {
          "output_type": "stream",
          "text": [
            "INFO:tensorflow:Finished initializing TPU system.\n"
          ],
          "name": "stdout"
        },
        {
          "output_type": "stream",
          "text": [
            "INFO:tensorflow:Finished initializing TPU system.\n",
            "WARNING:absl:`tf.distribute.experimental.TPUStrategy` is deprecated, please use  the non experimental symbol `tf.distribute.TPUStrategy` instead.\n"
          ],
          "name": "stderr"
        },
        {
          "output_type": "stream",
          "text": [
            "INFO:tensorflow:Found TPU system:\n"
          ],
          "name": "stdout"
        },
        {
          "output_type": "stream",
          "text": [
            "INFO:tensorflow:Found TPU system:\n"
          ],
          "name": "stderr"
        },
        {
          "output_type": "stream",
          "text": [
            "INFO:tensorflow:*** Num TPU Cores: 8\n"
          ],
          "name": "stdout"
        },
        {
          "output_type": "stream",
          "text": [
            "INFO:tensorflow:*** Num TPU Cores: 8\n"
          ],
          "name": "stderr"
        },
        {
          "output_type": "stream",
          "text": [
            "INFO:tensorflow:*** Num TPU Workers: 1\n"
          ],
          "name": "stdout"
        },
        {
          "output_type": "stream",
          "text": [
            "INFO:tensorflow:*** Num TPU Workers: 1\n"
          ],
          "name": "stderr"
        },
        {
          "output_type": "stream",
          "text": [
            "INFO:tensorflow:*** Num TPU Cores Per Worker: 8\n"
          ],
          "name": "stdout"
        },
        {
          "output_type": "stream",
          "text": [
            "INFO:tensorflow:*** Num TPU Cores Per Worker: 8\n"
          ],
          "name": "stderr"
        },
        {
          "output_type": "stream",
          "text": [
            "INFO:tensorflow:*** Available Device: _DeviceAttributes(/job:localhost/replica:0/task:0/device:CPU:0, CPU, 0, 0)\n"
          ],
          "name": "stdout"
        },
        {
          "output_type": "stream",
          "text": [
            "INFO:tensorflow:*** Available Device: _DeviceAttributes(/job:localhost/replica:0/task:0/device:CPU:0, CPU, 0, 0)\n"
          ],
          "name": "stderr"
        },
        {
          "output_type": "stream",
          "text": [
            "INFO:tensorflow:*** Available Device: _DeviceAttributes(/job:worker/replica:0/task:0/device:CPU:0, CPU, 0, 0)\n"
          ],
          "name": "stdout"
        },
        {
          "output_type": "stream",
          "text": [
            "INFO:tensorflow:*** Available Device: _DeviceAttributes(/job:worker/replica:0/task:0/device:CPU:0, CPU, 0, 0)\n"
          ],
          "name": "stderr"
        },
        {
          "output_type": "stream",
          "text": [
            "INFO:tensorflow:*** Available Device: _DeviceAttributes(/job:worker/replica:0/task:0/device:TPU:0, TPU, 0, 0)\n"
          ],
          "name": "stdout"
        },
        {
          "output_type": "stream",
          "text": [
            "INFO:tensorflow:*** Available Device: _DeviceAttributes(/job:worker/replica:0/task:0/device:TPU:0, TPU, 0, 0)\n"
          ],
          "name": "stderr"
        },
        {
          "output_type": "stream",
          "text": [
            "INFO:tensorflow:*** Available Device: _DeviceAttributes(/job:worker/replica:0/task:0/device:TPU:1, TPU, 0, 0)\n"
          ],
          "name": "stdout"
        },
        {
          "output_type": "stream",
          "text": [
            "INFO:tensorflow:*** Available Device: _DeviceAttributes(/job:worker/replica:0/task:0/device:TPU:1, TPU, 0, 0)\n"
          ],
          "name": "stderr"
        },
        {
          "output_type": "stream",
          "text": [
            "INFO:tensorflow:*** Available Device: _DeviceAttributes(/job:worker/replica:0/task:0/device:TPU:2, TPU, 0, 0)\n"
          ],
          "name": "stdout"
        },
        {
          "output_type": "stream",
          "text": [
            "INFO:tensorflow:*** Available Device: _DeviceAttributes(/job:worker/replica:0/task:0/device:TPU:2, TPU, 0, 0)\n"
          ],
          "name": "stderr"
        },
        {
          "output_type": "stream",
          "text": [
            "INFO:tensorflow:*** Available Device: _DeviceAttributes(/job:worker/replica:0/task:0/device:TPU:3, TPU, 0, 0)\n"
          ],
          "name": "stdout"
        },
        {
          "output_type": "stream",
          "text": [
            "INFO:tensorflow:*** Available Device: _DeviceAttributes(/job:worker/replica:0/task:0/device:TPU:3, TPU, 0, 0)\n"
          ],
          "name": "stderr"
        },
        {
          "output_type": "stream",
          "text": [
            "INFO:tensorflow:*** Available Device: _DeviceAttributes(/job:worker/replica:0/task:0/device:TPU:4, TPU, 0, 0)\n"
          ],
          "name": "stdout"
        },
        {
          "output_type": "stream",
          "text": [
            "INFO:tensorflow:*** Available Device: _DeviceAttributes(/job:worker/replica:0/task:0/device:TPU:4, TPU, 0, 0)\n"
          ],
          "name": "stderr"
        },
        {
          "output_type": "stream",
          "text": [
            "INFO:tensorflow:*** Available Device: _DeviceAttributes(/job:worker/replica:0/task:0/device:TPU:5, TPU, 0, 0)\n"
          ],
          "name": "stdout"
        },
        {
          "output_type": "stream",
          "text": [
            "INFO:tensorflow:*** Available Device: _DeviceAttributes(/job:worker/replica:0/task:0/device:TPU:5, TPU, 0, 0)\n"
          ],
          "name": "stderr"
        },
        {
          "output_type": "stream",
          "text": [
            "INFO:tensorflow:*** Available Device: _DeviceAttributes(/job:worker/replica:0/task:0/device:TPU:6, TPU, 0, 0)\n"
          ],
          "name": "stdout"
        },
        {
          "output_type": "stream",
          "text": [
            "INFO:tensorflow:*** Available Device: _DeviceAttributes(/job:worker/replica:0/task:0/device:TPU:6, TPU, 0, 0)\n"
          ],
          "name": "stderr"
        },
        {
          "output_type": "stream",
          "text": [
            "INFO:tensorflow:*** Available Device: _DeviceAttributes(/job:worker/replica:0/task:0/device:TPU:7, TPU, 0, 0)\n"
          ],
          "name": "stdout"
        },
        {
          "output_type": "stream",
          "text": [
            "INFO:tensorflow:*** Available Device: _DeviceAttributes(/job:worker/replica:0/task:0/device:TPU:7, TPU, 0, 0)\n"
          ],
          "name": "stderr"
        },
        {
          "output_type": "stream",
          "text": [
            "INFO:tensorflow:*** Available Device: _DeviceAttributes(/job:worker/replica:0/task:0/device:TPU_SYSTEM:0, TPU_SYSTEM, 0, 0)\n"
          ],
          "name": "stdout"
        },
        {
          "output_type": "stream",
          "text": [
            "INFO:tensorflow:*** Available Device: _DeviceAttributes(/job:worker/replica:0/task:0/device:TPU_SYSTEM:0, TPU_SYSTEM, 0, 0)\n"
          ],
          "name": "stderr"
        },
        {
          "output_type": "stream",
          "text": [
            "INFO:tensorflow:*** Available Device: _DeviceAttributes(/job:worker/replica:0/task:0/device:XLA_CPU:0, XLA_CPU, 0, 0)\n"
          ],
          "name": "stdout"
        },
        {
          "output_type": "stream",
          "text": [
            "INFO:tensorflow:*** Available Device: _DeviceAttributes(/job:worker/replica:0/task:0/device:XLA_CPU:0, XLA_CPU, 0, 0)\n"
          ],
          "name": "stderr"
        },
        {
          "output_type": "stream",
          "text": [
            "Running on TPU: grpc://10.95.184.250:8470\n",
            "Running on 8 replicas\n",
            "Epoch 1/20\n",
            "\n",
            "Epoch 00001: LearningRateScheduler reducing learning rate to 0.0001.\n",
            "410/410 [==============================] - 652s 883ms/step - loss: 0.5386 - auc: 0.7848 - val_loss: 0.6844 - val_auc: 0.6226\n",
            "\n",
            "Epoch 00001: val_auc improved from -inf to 0.62256, saving model to models/fold2.h5\n",
            "Epoch 2/20\n",
            "\n",
            "Epoch 00002: LearningRateScheduler reducing learning rate to 0.0013466666666666668.\n",
            "410/410 [==============================] - 340s 829ms/step - loss: 0.4935 - auc: 0.8218 - val_loss: 0.4675 - val_auc: 0.8415\n",
            "\n",
            "Epoch 00002: val_auc improved from 0.62256 to 0.84149, saving model to models/fold2.h5\n",
            "Epoch 3/20\n",
            "\n",
            "Epoch 00003: LearningRateScheduler reducing learning rate to 0.0025933333333333333.\n",
            "410/410 [==============================] - 340s 829ms/step - loss: 0.4755 - auc: 0.8363 - val_loss: 0.6004 - val_auc: 0.8381\n",
            "\n",
            "Epoch 00003: val_auc did not improve from 0.84149\n",
            "Epoch 4/20\n",
            "\n",
            "Epoch 00004: LearningRateScheduler reducing learning rate to 0.00384.\n",
            "410/410 [==============================] - 340s 830ms/step - loss: 0.4705 - auc: 0.8403 - val_loss: 0.6961 - val_auc: 0.8444\n",
            "\n",
            "Epoch 00004: val_auc improved from 0.84149 to 0.84444, saving model to models/fold2.h5\n",
            "Epoch 5/20\n",
            "\n",
            "Epoch 00005: LearningRateScheduler reducing learning rate to 0.0026880299999999997.\n",
            "410/410 [==============================] - 340s 830ms/step - loss: 0.4571 - auc: 0.8495 - val_loss: 0.4442 - val_auc: 0.8501\n",
            "\n",
            "Epoch 00005: val_auc improved from 0.84444 to 0.85008, saving model to models/fold2.h5\n",
            "Epoch 6/20\n",
            "\n",
            "Epoch 00006: LearningRateScheduler reducing learning rate to 0.001881651.\n",
            "410/410 [==============================] - 340s 828ms/step - loss: 0.4487 - auc: 0.8548 - val_loss: 0.4399 - val_auc: 0.8577\n",
            "\n",
            "Epoch 00006: val_auc improved from 0.85008 to 0.85769, saving model to models/fold2.h5\n",
            "Epoch 7/20\n",
            "\n",
            "Epoch 00007: LearningRateScheduler reducing learning rate to 0.0013171856999999998.\n",
            "410/410 [==============================] - 340s 830ms/step - loss: 0.4443 - auc: 0.8579 - val_loss: 0.4316 - val_auc: 0.8585\n",
            "\n",
            "Epoch 00007: val_auc improved from 0.85769 to 0.85851, saving model to models/fold2.h5\n",
            "Epoch 8/20\n",
            "\n",
            "Epoch 00008: LearningRateScheduler reducing learning rate to 0.0009220599899999999.\n",
            "410/410 [==============================] - 340s 830ms/step - loss: 0.4400 - auc: 0.8611 - val_loss: 0.4292 - val_auc: 0.8604\n",
            "\n",
            "Epoch 00008: val_auc improved from 0.85851 to 0.86043, saving model to models/fold2.h5\n",
            "Epoch 9/20\n",
            "\n",
            "Epoch 00009: LearningRateScheduler reducing learning rate to 0.0006454719929999997.\n",
            "410/410 [==============================] - 340s 830ms/step - loss: 0.4345 - auc: 0.8646 - val_loss: 0.4297 - val_auc: 0.8629\n",
            "\n",
            "Epoch 00009: val_auc improved from 0.86043 to 0.86290, saving model to models/fold2.h5\n",
            "Epoch 10/20\n",
            "\n",
            "Epoch 00010: LearningRateScheduler reducing learning rate to 0.00045186039509999986.\n",
            "410/410 [==============================] - 340s 831ms/step - loss: 0.4326 - auc: 0.8657 - val_loss: 0.4256 - val_auc: 0.8649\n",
            "\n",
            "Epoch 00010: val_auc improved from 0.86290 to 0.86494, saving model to models/fold2.h5\n",
            "Epoch 11/20\n",
            "\n",
            "Epoch 00011: LearningRateScheduler reducing learning rate to 0.00031633227656999987.\n",
            "410/410 [==============================] - 340s 830ms/step - loss: 0.4302 - auc: 0.8674 - val_loss: 0.4262 - val_auc: 0.8648\n",
            "\n",
            "Epoch 00011: val_auc did not improve from 0.86494\n",
            "Epoch 12/20\n",
            "\n",
            "Epoch 00012: LearningRateScheduler reducing learning rate to 0.0002214625935989999.\n",
            "410/410 [==============================] - 340s 830ms/step - loss: 0.4278 - auc: 0.8688 - val_loss: 0.4271 - val_auc: 0.8647\n",
            "\n",
            "Epoch 00012: val_auc did not improve from 0.86494\n",
            "Epoch 13/20\n",
            "\n",
            "Epoch 00013: LearningRateScheduler reducing learning rate to 0.00015505381551929993.\n",
            "410/410 [==============================] - 340s 829ms/step - loss: 0.4255 - auc: 0.8704 - val_loss: 0.4247 - val_auc: 0.8656\n",
            "\n",
            "Epoch 00013: val_auc improved from 0.86494 to 0.86561, saving model to models/fold2.h5\n",
            "Epoch 14/20\n",
            "\n",
            "Epoch 00014: LearningRateScheduler reducing learning rate to 0.00010856767086350995.\n",
            "410/410 [==============================] - 340s 830ms/step - loss: 0.4231 - auc: 0.8717 - val_loss: 0.4238 - val_auc: 0.8658\n",
            "\n",
            "Epoch 00014: val_auc improved from 0.86561 to 0.86581, saving model to models/fold2.h5\n",
            "Epoch 15/20\n",
            "\n",
            "Epoch 00015: LearningRateScheduler reducing learning rate to 7.602736960445695e-05.\n",
            "410/410 [==============================] - 340s 830ms/step - loss: 0.4228 - auc: 0.8719 - val_loss: 0.4210 - val_auc: 0.8661\n",
            "\n",
            "Epoch 00015: val_auc improved from 0.86581 to 0.86614, saving model to models/fold2.h5\n",
            "Epoch 16/20\n",
            "\n",
            "Epoch 00016: LearningRateScheduler reducing learning rate to 5.324915872311987e-05.\n",
            "410/410 [==============================] - 345s 842ms/step - loss: 0.4207 - auc: 0.8733 - val_loss: 0.4218 - val_auc: 0.8659\n",
            "\n",
            "Epoch 00016: val_auc did not improve from 0.86614\n",
            "Epoch 17/20\n",
            "\n",
            "Epoch 00017: LearningRateScheduler reducing learning rate to 3.7304411106183906e-05.\n",
            "410/410 [==============================] - 341s 831ms/step - loss: 0.4198 - auc: 0.8740 - val_loss: 0.4211 - val_auc: 0.8661\n",
            "\n",
            "Epoch 00017: val_auc did not improve from 0.86614\n",
            "Epoch 18/20\n",
            "\n",
            "Epoch 00018: LearningRateScheduler reducing learning rate to 2.614308777432873e-05.\n",
            "410/410 [==============================] - 340s 830ms/step - loss: 0.4192 - auc: 0.8742 - val_loss: 0.4211 - val_auc: 0.8660\n",
            "\n",
            "Epoch 00018: val_auc did not improve from 0.86614\n",
            "Epoch 19/20\n",
            "\n",
            "Epoch 00019: LearningRateScheduler reducing learning rate to 1.833016144203011e-05.\n",
            "410/410 [==============================] - 340s 830ms/step - loss: 0.4185 - auc: 0.8747 - val_loss: 0.4209 - val_auc: 0.8662\n",
            "\n",
            "Epoch 00019: val_auc improved from 0.86614 to 0.86616, saving model to models/fold2.h5\n",
            "Epoch 20/20\n",
            "\n",
            "Epoch 00020: LearningRateScheduler reducing learning rate to 1.2861113009421077e-05.\n",
            "410/410 [==============================] - 340s 829ms/step - loss: 0.4190 - auc: 0.8745 - val_loss: 0.4210 - val_auc: 0.8660\n",
            "\n",
            "Epoch 00020: val_auc did not improve from 0.86616\n",
            "Loading best model...\n"
          ],
          "name": "stdout"
        },
        {
          "output_type": "stream",
          "text": [
            "/usr/local/lib/python3.7/dist-packages/seaborn/distributions.py:2557: FutureWarning: `distplot` is a deprecated function and will be removed in a future version. Please adapt your code to use either `displot` (a figure-level function with similar flexibility) or `histplot` (an axes-level function for histograms).\n",
            "  warnings.warn(msg, FutureWarning)\n"
          ],
          "name": "stderr"
        },
        {
          "output_type": "display_data",
          "data": {
            "image/png": "[encoded data removed]",
            "text/plain": [
              "<Figure size 576x432 with 1 Axes>"
            ]
          },
          "metadata": {
            "tags": []
          }
        },
        {
          "output_type": "display_data",
          "data": {
            "image/png": "[encoded data removed]",
            "text/plain": [
              "<Figure size 1080x360 with 2 Axes>"
            ]
          },
          "metadata": {
            "tags": []
          }
        },
        {
          "output_type": "stream",
          "text": [
            "========================================================================================================================\n",
            "Fold 3\n",
            "========================================================================================================================\n",
            "WARNING:tensorflow:TPU system grpc://10.95.184.250:8470 has already been initialized. Reinitializing the TPU can cause previously created variables on TPU to be lost.\n"
          ],
          "name": "stdout"
        },
        {
          "output_type": "stream",
          "text": [
            "WARNING:tensorflow:TPU system grpc://10.95.184.250:8470 has already been initialized. Reinitializing the TPU can cause previously created variables on TPU to be lost.\n"
          ],
          "name": "stderr"
        },
        {
          "output_type": "stream",
          "text": [
            "INFO:tensorflow:Initializing the TPU system: grpc://10.95.184.250:8470\n"
          ],
          "name": "stdout"
        },
        {
          "output_type": "stream",
          "text": [
            "INFO:tensorflow:Initializing the TPU system: grpc://10.95.184.250:8470\n"
          ],
          "name": "stderr"
        },
        {
          "output_type": "stream",
          "text": [
            "INFO:tensorflow:Clearing out eager caches\n"
          ],
          "name": "stdout"
        },
        {
          "output_type": "stream",
          "text": [
            "INFO:tensorflow:Clearing out eager caches\n"
          ],
          "name": "stderr"
        },
        {
          "output_type": "stream",
          "text": [
            "INFO:tensorflow:Finished initializing TPU system.\n"
          ],
          "name": "stdout"
        },
        {
          "output_type": "stream",
          "text": [
            "INFO:tensorflow:Finished initializing TPU system.\n",
            "WARNING:absl:`tf.distribute.experimental.TPUStrategy` is deprecated, please use  the non experimental symbol `tf.distribute.TPUStrategy` instead.\n"
          ],
          "name": "stderr"
        },
        {
          "output_type": "stream",
          "text": [
            "INFO:tensorflow:Found TPU system:\n"
          ],
          "name": "stdout"
        },
        {
          "output_type": "stream",
          "text": [
            "INFO:tensorflow:Found TPU system:\n"
          ],
          "name": "stderr"
        },
        {
          "output_type": "stream",
          "text": [
            "INFO:tensorflow:*** Num TPU Cores: 8\n"
          ],
          "name": "stdout"
        },
        {
          "output_type": "stream",
          "text": [
            "INFO:tensorflow:*** Num TPU Cores: 8\n"
          ],
          "name": "stderr"
        },
        {
          "output_type": "stream",
          "text": [
            "INFO:tensorflow:*** Num TPU Workers: 1\n"
          ],
          "name": "stdout"
        },
        {
          "output_type": "stream",
          "text": [
            "INFO:tensorflow:*** Num TPU Workers: 1\n"
          ],
          "name": "stderr"
        },
        {
          "output_type": "stream",
          "text": [
            "INFO:tensorflow:*** Num TPU Cores Per Worker: 8\n"
          ],
          "name": "stdout"
        },
        {
          "output_type": "stream",
          "text": [
            "INFO:tensorflow:*** Num TPU Cores Per Worker: 8\n"
          ],
          "name": "stderr"
        },
        {
          "output_type": "stream",
          "text": [
            "INFO:tensorflow:*** Available Device: _DeviceAttributes(/job:localhost/replica:0/task:0/device:CPU:0, CPU, 0, 0)\n"
          ],
          "name": "stdout"
        },
        {
          "output_type": "stream",
          "text": [
            "INFO:tensorflow:*** Available Device: _DeviceAttributes(/job:localhost/replica:0/task:0/device:CPU:0, CPU, 0, 0)\n"
          ],
          "name": "stderr"
        },
        {
          "output_type": "stream",
          "text": [
            "INFO:tensorflow:*** Available Device: _DeviceAttributes(/job:worker/replica:0/task:0/device:CPU:0, CPU, 0, 0)\n"
          ],
          "name": "stdout"
        },
        {
          "output_type": "stream",
          "text": [
            "INFO:tensorflow:*** Available Device: _DeviceAttributes(/job:worker/replica:0/task:0/device:CPU:0, CPU, 0, 0)\n"
          ],
          "name": "stderr"
        },
        {
          "output_type": "stream",
          "text": [
            "INFO:tensorflow:*** Available Device: _DeviceAttributes(/job:worker/replica:0/task:0/device:TPU:0, TPU, 0, 0)\n"
          ],
          "name": "stdout"
        },
        {
          "output_type": "stream",
          "text": [
            "INFO:tensorflow:*** Available Device: _DeviceAttributes(/job:worker/replica:0/task:0/device:TPU:0, TPU, 0, 0)\n"
          ],
          "name": "stderr"
        },
        {
          "output_type": "stream",
          "text": [
            "INFO:tensorflow:*** Available Device: _DeviceAttributes(/job:worker/replica:0/task:0/device:TPU:1, TPU, 0, 0)\n"
          ],
          "name": "stdout"
        },
        {
          "output_type": "stream",
          "text": [
            "INFO:tensorflow:*** Available Device: _DeviceAttributes(/job:worker/replica:0/task:0/device:TPU:1, TPU, 0, 0)\n"
          ],
          "name": "stderr"
        },
        {
          "output_type": "stream",
          "text": [
            "INFO:tensorflow:*** Available Device: _DeviceAttributes(/job:worker/replica:0/task:0/device:TPU:2, TPU, 0, 0)\n"
          ],
          "name": "stdout"
        },
        {
          "output_type": "stream",
          "text": [
            "INFO:tensorflow:*** Available Device: _DeviceAttributes(/job:worker/replica:0/task:0/device:TPU:2, TPU, 0, 0)\n"
          ],
          "name": "stderr"
        },
        {
          "output_type": "stream",
          "text": [
            "INFO:tensorflow:*** Available Device: _DeviceAttributes(/job:worker/replica:0/task:0/device:TPU:3, TPU, 0, 0)\n"
          ],
          "name": "stdout"
        },
        {
          "output_type": "stream",
          "text": [
            "INFO:tensorflow:*** Available Device: _DeviceAttributes(/job:worker/replica:0/task:0/device:TPU:3, TPU, 0, 0)\n"
          ],
          "name": "stderr"
        },
        {
          "output_type": "stream",
          "text": [
            "INFO:tensorflow:*** Available Device: _DeviceAttributes(/job:worker/replica:0/task:0/device:TPU:4, TPU, 0, 0)\n"
          ],
          "name": "stdout"
        },
        {
          "output_type": "stream",
          "text": [
            "INFO:tensorflow:*** Available Device: _DeviceAttributes(/job:worker/replica:0/task:0/device:TPU:4, TPU, 0, 0)\n"
          ],
          "name": "stderr"
        },
        {
          "output_type": "stream",
          "text": [
            "INFO:tensorflow:*** Available Device: _DeviceAttributes(/job:worker/replica:0/task:0/device:TPU:5, TPU, 0, 0)\n"
          ],
          "name": "stdout"
        },
        {
          "output_type": "stream",
          "text": [
            "INFO:tensorflow:*** Available Device: _DeviceAttributes(/job:worker/replica:0/task:0/device:TPU:5, TPU, 0, 0)\n"
          ],
          "name": "stderr"
        },
        {
          "output_type": "stream",
          "text": [
            "INFO:tensorflow:*** Available Device: _DeviceAttributes(/job:worker/replica:0/task:0/device:TPU:6, TPU, 0, 0)\n"
          ],
          "name": "stdout"
        },
        {
          "output_type": "stream",
          "text": [
            "INFO:tensorflow:*** Available Device: _DeviceAttributes(/job:worker/replica:0/task:0/device:TPU:6, TPU, 0, 0)\n"
          ],
          "name": "stderr"
        },
        {
          "output_type": "stream",
          "text": [
            "INFO:tensorflow:*** Available Device: _DeviceAttributes(/job:worker/replica:0/task:0/device:TPU:7, TPU, 0, 0)\n"
          ],
          "name": "stdout"
        },
        {
          "output_type": "stream",
          "text": [
            "INFO:tensorflow:*** Available Device: _DeviceAttributes(/job:worker/replica:0/task:0/device:TPU:7, TPU, 0, 0)\n"
          ],
          "name": "stderr"
        },
        {
          "output_type": "stream",
          "text": [
            "INFO:tensorflow:*** Available Device: _DeviceAttributes(/job:worker/replica:0/task:0/device:TPU_SYSTEM:0, TPU_SYSTEM, 0, 0)\n"
          ],
          "name": "stdout"
        },
        {
          "output_type": "stream",
          "text": [
            "INFO:tensorflow:*** Available Device: _DeviceAttributes(/job:worker/replica:0/task:0/device:TPU_SYSTEM:0, TPU_SYSTEM, 0, 0)\n"
          ],
          "name": "stderr"
        },
        {
          "output_type": "stream",
          "text": [
            "INFO:tensorflow:*** Available Device: _DeviceAttributes(/job:worker/replica:0/task:0/device:XLA_CPU:0, XLA_CPU, 0, 0)\n"
          ],
          "name": "stdout"
        },
        {
          "output_type": "stream",
          "text": [
            "INFO:tensorflow:*** Available Device: _DeviceAttributes(/job:worker/replica:0/task:0/device:XLA_CPU:0, XLA_CPU, 0, 0)\n"
          ],
          "name": "stderr"
        },
        {
          "output_type": "stream",
          "text": [
            "Running on TPU: grpc://10.95.184.250:8470\n",
            "Running on 8 replicas\n",
            "Epoch 1/20\n",
            "\n",
            "Epoch 00001: LearningRateScheduler reducing learning rate to 0.0001.\n",
            "410/410 [==============================] - 668s 884ms/step - loss: 0.5418 - auc: 0.7822 - val_loss: 0.6782 - val_auc: 0.6351\n",
            "\n",
            "Epoch 00001: val_auc improved from -inf to 0.63510, saving model to models/fold3.h5\n",
            "Epoch 2/20\n",
            "\n",
            "Epoch 00002: LearningRateScheduler reducing learning rate to 0.0013466666666666668.\n",
            "410/410 [==============================] - 340s 830ms/step - loss: 0.4972 - auc: 0.8187 - val_loss: 0.4490 - val_auc: 0.8500\n",
            "\n",
            "Epoch 00002: val_auc improved from 0.63510 to 0.84995, saving model to models/fold3.h5\n",
            "Epoch 3/20\n",
            "\n",
            "Epoch 00003: LearningRateScheduler reducing learning rate to 0.0025933333333333333.\n",
            "410/410 [==============================] - 340s 831ms/step - loss: 0.4755 - auc: 0.8355 - val_loss: 0.6487 - val_auc: 0.8422\n",
            "\n",
            "Epoch 00003: val_auc did not improve from 0.84995\n",
            "Epoch 4/20\n",
            "\n",
            "Epoch 00004: LearningRateScheduler reducing learning rate to 0.00384.\n",
            "410/410 [==============================] - 341s 832ms/step - loss: 0.4713 - auc: 0.8392 - val_loss: 0.5589 - val_auc: 0.8399\n",
            "\n",
            "Epoch 00004: val_auc did not improve from 0.84995\n",
            "Epoch 5/20\n",
            "\n",
            "Epoch 00005: LearningRateScheduler reducing learning rate to 0.0026880299999999997.\n",
            "410/410 [==============================] - 341s 831ms/step - loss: 0.4567 - auc: 0.8495 - val_loss: 0.4650 - val_auc: 0.8554\n",
            "\n",
            "Epoch 00005: val_auc improved from 0.84995 to 0.85542, saving model to models/fold3.h5\n",
            "Epoch 6/20\n",
            "\n",
            "Epoch 00006: LearningRateScheduler reducing learning rate to 0.001881651.\n",
            "410/410 [==============================] - 341s 831ms/step - loss: 0.4511 - auc: 0.8528 - val_loss: 0.4551 - val_auc: 0.8594\n",
            "\n",
            "Epoch 00006: val_auc improved from 0.85542 to 0.85935, saving model to models/fold3.h5\n",
            "Epoch 7/20\n",
            "\n",
            "Epoch 00007: LearningRateScheduler reducing learning rate to 0.0013171856999999998.\n",
            "410/410 [==============================] - 341s 831ms/step - loss: 0.4440 - auc: 0.8582 - val_loss: 0.4282 - val_auc: 0.8639\n",
            "\n",
            "Epoch 00007: val_auc improved from 0.85935 to 0.86388, saving model to models/fold3.h5\n",
            "Epoch 8/20\n",
            "\n",
            "Epoch 00008: LearningRateScheduler reducing learning rate to 0.0009220599899999999.\n",
            "410/410 [==============================] - 341s 833ms/step - loss: 0.4397 - auc: 0.8606 - val_loss: 0.4790 - val_auc: 0.8648\n",
            "\n",
            "Epoch 00008: val_auc improved from 0.86388 to 0.86475, saving model to models/fold3.h5\n",
            "Epoch 9/20\n",
            "\n",
            "Epoch 00009: LearningRateScheduler reducing learning rate to 0.0006454719929999997.\n",
            "410/410 [==============================] - 341s 832ms/step - loss: 0.4355 - auc: 0.8638 - val_loss: 0.4269 - val_auc: 0.8663\n",
            "\n",
            "Epoch 00009: val_auc improved from 0.86475 to 0.86633, saving model to models/fold3.h5\n",
            "Epoch 10/20\n",
            "\n",
            "Epoch 00010: LearningRateScheduler reducing learning rate to 0.00045186039509999986.\n",
            "410/410 [==============================] - 341s 831ms/step - loss: 0.4353 - auc: 0.8638 - val_loss: 0.4226 - val_auc: 0.8676\n",
            "\n",
            "Epoch 00010: val_auc improved from 0.86633 to 0.86758, saving model to models/fold3.h5\n",
            "Epoch 11/20\n",
            "\n",
            "Epoch 00011: LearningRateScheduler reducing learning rate to 0.00031633227656999987.\n",
            "410/410 [==============================] - 340s 830ms/step - loss: 0.4314 - auc: 0.8665 - val_loss: 0.4304 - val_auc: 0.8671\n",
            "\n",
            "Epoch 00011: val_auc did not improve from 0.86758\n",
            "Epoch 12/20\n",
            "\n",
            "Epoch 00012: LearningRateScheduler reducing learning rate to 0.0002214625935989999.\n",
            "410/410 [==============================] - 341s 832ms/step - loss: 0.4281 - auc: 0.8683 - val_loss: 0.4263 - val_auc: 0.8686\n",
            "\n",
            "Epoch 00012: val_auc improved from 0.86758 to 0.86862, saving model to models/fold3.h5\n",
            "Epoch 13/20\n",
            "\n",
            "Epoch 00013: LearningRateScheduler reducing learning rate to 0.00015505381551929993.\n",
            "410/410 [==============================] - 341s 832ms/step - loss: 0.4251 - auc: 0.8703 - val_loss: 0.4219 - val_auc: 0.8688\n",
            "\n",
            "Epoch 00013: val_auc improved from 0.86862 to 0.86878, saving model to models/fold3.h5\n",
            "Epoch 14/20\n",
            "\n",
            "Epoch 00014: LearningRateScheduler reducing learning rate to 0.00010856767086350995.\n",
            "410/410 [==============================] - 341s 832ms/step - loss: 0.4268 - auc: 0.8687 - val_loss: 0.4186 - val_auc: 0.8689\n",
            "\n",
            "Epoch 00014: val_auc improved from 0.86878 to 0.86895, saving model to models/fold3.h5\n",
            "Epoch 15/20\n",
            "\n",
            "Epoch 00015: LearningRateScheduler reducing learning rate to 7.602736960445695e-05.\n",
            "410/410 [==============================] - 342s 833ms/step - loss: 0.4241 - auc: 0.8710 - val_loss: 0.4176 - val_auc: 0.8694\n",
            "\n",
            "Epoch 00015: val_auc improved from 0.86895 to 0.86940, saving model to models/fold3.h5\n",
            "Epoch 16/20\n",
            "\n",
            "Epoch 00016: LearningRateScheduler reducing learning rate to 5.324915872311987e-05.\n",
            "410/410 [==============================] - 341s 831ms/step - loss: 0.4214 - auc: 0.8726 - val_loss: 0.4179 - val_auc: 0.8692\n",
            "\n",
            "Epoch 00016: val_auc did not improve from 0.86940\n",
            "Epoch 17/20\n",
            "\n",
            "Epoch 00017: LearningRateScheduler reducing learning rate to 3.7304411106183906e-05.\n",
            "410/410 [==============================] - 341s 831ms/step - loss: 0.4200 - auc: 0.8737 - val_loss: 0.4184 - val_auc: 0.8692\n",
            "\n",
            "Epoch 00017: val_auc did not improve from 0.86940\n",
            "Epoch 18/20\n",
            "\n",
            "Epoch 00018: LearningRateScheduler reducing learning rate to 2.614308777432873e-05.\n",
            "410/410 [==============================] - 340s 830ms/step - loss: 0.4225 - auc: 0.8717 - val_loss: 0.4181 - val_auc: 0.8691\n",
            "\n",
            "Epoch 00018: val_auc did not improve from 0.86940\n",
            "Epoch 19/20\n",
            "\n",
            "Epoch 00019: LearningRateScheduler reducing learning rate to 1.833016144203011e-05.\n",
            "410/410 [==============================] - 341s 833ms/step - loss: 0.4212 - auc: 0.8731 - val_loss: 0.4175 - val_auc: 0.8693\n",
            "\n",
            "Epoch 00019: val_auc did not improve from 0.86940\n",
            "Epoch 20/20\n",
            "\n",
            "Epoch 00020: LearningRateScheduler reducing learning rate to 1.2861113009421077e-05.\n",
            "410/410 [==============================] - 341s 832ms/step - loss: 0.4189 - auc: 0.8743 - val_loss: 0.4178 - val_auc: 0.8692\n",
            "\n",
            "Epoch 00020: val_auc did not improve from 0.86940\n",
            "Loading best model...\n"
          ],
          "name": "stdout"
        },
        {
          "output_type": "stream",
          "text": [
            "/usr/local/lib/python3.7/dist-packages/seaborn/distributions.py:2557: FutureWarning: `distplot` is a deprecated function and will be removed in a future version. Please adapt your code to use either `displot` (a figure-level function with similar flexibility) or `histplot` (an axes-level function for histograms).\n",
            "  warnings.warn(msg, FutureWarning)\n"
          ],
          "name": "stderr"
        },
        {
          "output_type": "display_data",
          "data": {
            "image/png": "[encoded data removed]",
            "text/plain": [
              "<Figure size 576x432 with 1 Axes>"
            ]
          },
          "metadata": {
            "tags": [],
            "needs_background": "light"
          }
        },
        {
          "output_type": "display_data",
          "data": {
            "image/png": "[encoded data removed]",
            "text/plain": [
              "<Figure size 1080x360 with 2 Axes>"
            ]
          },
          "metadata": {
            "tags": [],
            "needs_background": "light"
          }
        }
      ]
    },
    {
      "cell_type": "markdown",
      "metadata": {
        "papermill": {
          "duration": 10.55076,
          "end_time": "2021-08-14T09:51:52.359607",
          "exception": false,
          "start_time": "2021-08-14T09:51:41.808847",
          "status": "completed"
        },
        "tags": [],
        "id": "bbf7e6ee"
      },
      "source": [
        "## OOF"
      ],
      "id": "bbf7e6ee"
    },
    {
      "cell_type": "code",
      "metadata": {
        "execution": {
          "iopub.execute_input": "2021-08-14T09:52:12.627382Z",
          "iopub.status.busy": "2021-08-14T09:52:12.626266Z",
          "iopub.status.idle": "2021-08-14T09:52:12.900841Z",
          "shell.execute_reply": "2021-08-14T09:52:12.901318Z"
        },
        "papermill": {
          "duration": 10.424491,
          "end_time": "2021-08-14T09:52:12.901515",
          "exception": false,
          "start_time": "2021-08-14T09:52:02.477024",
          "status": "completed"
        },
        "tags": [],
        "colab": {
          "base_uri": "https://localhost:8080/"
        },
        "id": "27de9339",
        "outputId": "e65707e6-80cb-4eec-f708-0a2dc607e50f"
      },
      "source": [
        "oof = np.concatenate(oof_pred)\n",
        "true = np.concatenate(oof_target)\n",
        "auc = roc_auc_score(y_true=true, y_score=oof)\n",
        "print(f\"AUC: {auc:.5f}\")"
      ],
      "id": "27de9339",
      "execution_count": 20,
      "outputs": [
        {
          "output_type": "stream",
          "text": [
            "AUC: 0.86697\n"
          ],
          "name": "stdout"
        }
      ]
    },
    {
      "cell_type": "code",
      "metadata": {
        "execution": {
          "iopub.execute_input": "2021-08-14T09:52:32.961579Z",
          "iopub.status.busy": "2021-08-14T09:52:32.960678Z",
          "iopub.status.idle": "2021-08-14T09:52:32.990249Z",
          "shell.execute_reply": "2021-08-14T09:52:32.989625Z"
        },
        "papermill": {
          "duration": 10.038098,
          "end_time": "2021-08-14T09:52:32.990395",
          "exception": false,
          "start_time": "2021-08-14T09:52:22.952297",
          "status": "completed"
        },
        "tags": [],
        "colab": {
          "base_uri": "https://localhost:8080/",
          "height": 205
        },
        "id": "518a9cb3",
        "outputId": "d4721b09-e5d7-41ff-b847-334a32351bc5"
      },
      "source": [
        "df = pd.DataFrame({\n",
        "    \"y_true\": true.reshape(-1),\n",
        "    \"y_pred\": oof\n",
        "})\n",
        "df.head()"
      ],
      "id": "518a9cb3",
      "execution_count": 21,
      "outputs": [
        {
          "output_type": "execute_result",
          "data": {
            "text/html": [
              "<div>\n",
              "<style scoped>\n",
              "    .dataframe tbody tr th:only-of-type {\n",
              "        vertical-align: middle;\n",
              "    }\n",
              "\n",
              "    .dataframe tbody tr th {\n",
              "        vertical-align: top;\n",
              "    }\n",
              "\n",
              "    .dataframe thead th {\n",
              "        text-align: right;\n",
              "    }\n",
              "</style>\n",
              "<table border=\"1\" class=\"dataframe\">\n",
              "  <thead>\n",
              "    <tr style=\"text-align: right;\">\n",
              "      <th></th>\n",
              "      <th>y_true</th>\n",
              "      <th>y_pred</th>\n",
              "    </tr>\n",
              "  </thead>\n",
              "  <tbody>\n",
              "    <tr>\n",
              "      <th>0</th>\n",
              "      <td>0.0</td>\n",
              "      <td>0.271366</td>\n",
              "    </tr>\n",
              "    <tr>\n",
              "      <th>1</th>\n",
              "      <td>1.0</td>\n",
              "      <td>0.226157</td>\n",
              "    </tr>\n",
              "    <tr>\n",
              "      <th>2</th>\n",
              "      <td>1.0</td>\n",
              "      <td>0.161426</td>\n",
              "    </tr>\n",
              "    <tr>\n",
              "      <th>3</th>\n",
              "      <td>1.0</td>\n",
              "      <td>0.333306</td>\n",
              "    </tr>\n",
              "    <tr>\n",
              "      <th>4</th>\n",
              "      <td>0.0</td>\n",
              "      <td>0.306330</td>\n",
              "    </tr>\n",
              "  </tbody>\n",
              "</table>\n",
              "</div>"
            ],
            "text/plain": [
              "   y_true    y_pred\n",
              "0     0.0  0.271366\n",
              "1     1.0  0.226157\n",
              "2     1.0  0.161426\n",
              "3     1.0  0.333306\n",
              "4     0.0  0.306330"
            ]
          },
          "metadata": {
            "tags": []
          },
          "execution_count": 21
        }
      ]
    },
    {
      "cell_type": "code",
      "metadata": {
        "execution": {
          "iopub.execute_input": "2021-08-14T09:52:53.313452Z",
          "iopub.status.busy": "2021-08-14T09:52:53.312548Z",
          "iopub.status.idle": "2021-08-14T09:52:55.218852Z",
          "shell.execute_reply": "2021-08-14T09:52:55.218179Z"
        },
        "papermill": {
          "duration": 12.080685,
          "end_time": "2021-08-14T09:52:55.219018",
          "exception": false,
          "start_time": "2021-08-14T09:52:43.138333",
          "status": "completed"
        },
        "tags": [],
        "id": "c79e8d8a"
      },
      "source": [
        "df.to_csv(OOFDIR / f\"oof.csv\", index=False)"
      ],
      "id": "c79e8d8a",
      "execution_count": 22,
      "outputs": []
    },
    {
      "cell_type": "code",
      "metadata": {
        "papermill": {
          "duration": 10.05282,
          "end_time": "2021-08-14T09:53:15.214985",
          "exception": false,
          "start_time": "2021-08-14T09:53:05.162165",
          "status": "completed"
        },
        "tags": [],
        "id": "8041d911"
      },
      "source": [
        ""
      ],
      "id": "8041d911",
      "execution_count": 22,
      "outputs": []
    },
    {
      "cell_type": "code",
      "metadata": {
        "id": "6rdRRgQkTqvr"
      },
      "source": [
        ""
      ],
      "id": "6rdRRgQkTqvr",
      "execution_count": 22,
      "outputs": []
    },
    {
      "cell_type": "code",
      "metadata": {
        "id": "4xErdWIzTqzq"
      },
      "source": [
        ""
      ],
      "id": "4xErdWIzTqzq",
      "execution_count": 22,
      "outputs": []
    },
    {
      "cell_type": "code",
      "metadata": {
        "colab": {
          "base_uri": "https://localhost:8080/"
        },
        "id": "t0s-uEqt6Ezm",
        "outputId": "21a794c4-f394-4d14-8e34-906f9035a813"
      },
      "source": [
        "!zip -r colab_cqt_tpu_train.zip /content/models/  /content/oof/"
      ],
      "id": "t0s-uEqt6Ezm",
      "execution_count": 23,
      "outputs": [
        {
          "output_type": "stream",
          "text": [
            "  adding: content/models/ (stored 0%)\n",
            "  adding: content/models/fold1.h5 (deflated 7%)\n",
            "  adding: content/models/fold3.h5 (deflated 7%)\n",
            "  adding: content/models/fold2.h5 (deflated 7%)\n",
            "  adding: content/models/fold0.h5 (deflated 7%)\n",
            "  adding: content/oof/ (stored 0%)\n",
            "  adding: content/oof/fig3.png (deflated 5%)\n",
            "  adding: content/oof/fig2.png (deflated 5%)\n",
            "  adding: content/oof/oof.csv (deflated 68%)\n",
            "  adding: content/oof/fig0.png (deflated 5%)\n",
            "  adding: content/oof/fig1.png (deflated 5%)\n"
          ],
          "name": "stdout"
        }
      ]
    },
    {
      "cell_type": "code",
      "metadata": {
        "colab": {
          "base_uri": "https://localhost:8080/"
        },
        "id": "sje9SXhhstJM",
        "outputId": "a4b8c3d6-7a0b-4ec3-c191-528d124a5931"
      },
      "source": [
        "from google.colab import drive\n",
        "drive.mount('/content/drive', force_remount=True)"
      ],
      "id": "sje9SXhhstJM",
      "execution_count": 26,
      "outputs": [
        {
          "output_type": "stream",
          "text": [
            "Mounted at /content/drive\n"
          ],
          "name": "stdout"
        }
      ]
    },
    {
      "cell_type": "code",
      "metadata": {
        "id": "IUGs60BPTsgf"
      },
      "source": [
        "! cp *.zip /content/drive/MyDrive/kaggle/"
      ],
      "id": "IUGs60BPTsgf",
      "execution_count": 27,
      "outputs": []
    },
    {
      "cell_type": "code",
      "metadata": {
        "id": "ILV8RkXQTszJ"
      },
      "source": [
        ""
      ],
      "id": "ILV8RkXQTszJ",
      "execution_count": null,
      "outputs": []
    }
  ]
}